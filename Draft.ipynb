{
 "cells": [
  {
   "cell_type": "markdown",
   "id": "2cf779b9-f7b1-45d5-a6d3-c3e05be971d3",
   "metadata": {},
   "source": [
    "# Optimizing Bankruptcy Prediction with K-NN, SMOTE, and Logistic Regression"
   ]
  },
  {
   "cell_type": "markdown",
   "id": "e25efb0a-3a24-47a5-930e-1c503e8d0af7",
   "metadata": {},
   "source": [
    "## Introduction:"
   ]
  },
  {
   "cell_type": "markdown",
   "id": "b86e40af-f7c1-4e18-a9ea-89684cf569a1",
   "metadata": {},
   "source": [
    "### Project Background:"
   ]
  },
  {
   "cell_type": "markdown",
   "id": "5008e951-5608-4015-9152-4f95c02e7f73",
   "metadata": {},
   "source": [
    "The possibility of a company facing bankruptcy is a major concern in the economic and financial field. Predicting bankruptcy early can reduce risks and provide stakeholders with valuable information to make informed decisions. The project aims to leverage machine learning techniques to predict the probability of bankruptcy based on financial metrics. We particularly address the challenges posed by unbalanced datasets, which are common in bankruptcy prediction scenarios where the number of solvent companies far exceeds the number of insolvent companies."
   ]
  },
  {
   "cell_type": "markdown",
   "id": "cb0ae6ff-f2a5-45a8-8578-5dc5f8228a59",
   "metadata": {},
   "source": [
    "### Main Question:"
   ]
  },
  {
   "cell_type": "markdown",
   "id": "c5d333d4-b199-419b-b1b4-a69edb7108fb",
   "metadata": {},
   "source": [
    "Can we accurately predict the likelihood of a company facing bankruptcy by applying SMOTE for data balancing, KNN for classification, and logistic regression for identifying key financial indicators?"
   ]
  },
  {
   "cell_type": "markdown",
   "id": "785eb4bf-ad46-4811-8485-8cbecbb6bdb6",
   "metadata": {},
   "source": [
    "### Dataset Description:"
   ]
  },
  {
   "cell_type": "markdown",
   "id": "39765664-bc43-42ff-a7c5-0cc47bf1fa85",
   "metadata": {},
   "source": [
    "The dataset chosen for this project is from Kaggle (https://www.kaggle.com/datasets/utkarshx27/american-companies-bankruptcy-prediction-dataset/data), which comprises various financial indicators of American public companies listed on the New York Stock Exchange and NASDAQ over a period. It includes features such as current assets, market value, inventorys, depreciation and amortization etc. The target variable is binary, indicating whether a company went bankrupt or remained solvent within the time frame studied."
   ]
  },
  {
   "cell_type": "markdown",
   "id": "91632f65-12cb-4efd-92ba-08f8a555c62d",
   "metadata": {},
   "source": [
    "## Preliminary exploratory data analysis:"
   ]
  },
  {
   "cell_type": "markdown",
   "id": "0876a31b-9bfb-4771-b722-d721e542e8ce",
   "metadata": {},
   "source": [
    "### Read the dataset from internet:"
   ]
  },
  {
   "cell_type": "markdown",
   "id": "8180128b-c61e-4698-83cd-42573d56d84d",
   "metadata": {},
   "source": [
    "First, we intall and load the ***tidyverse*** library we're going to use to read the dataset:"
   ]
  },
  {
   "cell_type": "code",
   "execution_count": 1,
   "id": "624946ef-ff13-400a-96b6-89fedbb41b4f",
   "metadata": {},
   "outputs": [
    {
     "name": "stderr",
     "output_type": "stream",
     "text": [
      "Installing package into 'C:/Users/Ephemeral/AppData/Local/R/win-library/4.3'\n",
      "(as 'lib' is unspecified)\n",
      "\n"
     ]
    },
    {
     "name": "stdout",
     "output_type": "stream",
     "text": [
      "package 'tidyverse' successfully unpacked and MD5 sums checked\n",
      "\n",
      "The downloaded binary packages are in\n",
      "\tC:\\Users\\Ephemeral\\AppData\\Local\\Temp\\Rtmp44ntic\\downloaded_packages\n"
     ]
    },
    {
     "name": "stderr",
     "output_type": "stream",
     "text": [
      "Installing package into 'C:/Users/Ephemeral/AppData/Local/R/win-library/4.3'\n",
      "(as 'lib' is unspecified)\n",
      "\n"
     ]
    },
    {
     "name": "stdout",
     "output_type": "stream",
     "text": [
      "package 'tidymodels' successfully unpacked and MD5 sums checked\n",
      "\n",
      "The downloaded binary packages are in\n",
      "\tC:\\Users\\Ephemeral\\AppData\\Local\\Temp\\Rtmp44ntic\\downloaded_packages\n"
     ]
    },
    {
     "name": "stderr",
     "output_type": "stream",
     "text": [
      "── \u001b[1mAttaching core tidyverse packages\u001b[22m ──────────────────────────────────────────────────────────────── tidyverse 2.0.0 ──\n",
      "\u001b[32m✔\u001b[39m \u001b[34mdplyr    \u001b[39m 1.1.4     \u001b[32m✔\u001b[39m \u001b[34mreadr    \u001b[39m 2.1.5\n",
      "\u001b[32m✔\u001b[39m \u001b[34mforcats  \u001b[39m 1.0.0     \u001b[32m✔\u001b[39m \u001b[34mstringr  \u001b[39m 1.5.1\n",
      "\u001b[32m✔\u001b[39m \u001b[34mggplot2  \u001b[39m 3.4.4     \u001b[32m✔\u001b[39m \u001b[34mtibble   \u001b[39m 3.2.1\n",
      "\u001b[32m✔\u001b[39m \u001b[34mlubridate\u001b[39m 1.9.3     \u001b[32m✔\u001b[39m \u001b[34mtidyr    \u001b[39m 1.3.0\n",
      "\u001b[32m✔\u001b[39m \u001b[34mpurrr    \u001b[39m 1.0.2     \n",
      "── \u001b[1mConflicts\u001b[22m ────────────────────────────────────────────────────────────────────────────────── tidyverse_conflicts() ──\n",
      "\u001b[31m✖\u001b[39m \u001b[34mdplyr\u001b[39m::\u001b[32mfilter()\u001b[39m masks \u001b[34mstats\u001b[39m::filter()\n",
      "\u001b[31m✖\u001b[39m \u001b[34mdplyr\u001b[39m::\u001b[32mlag()\u001b[39m    masks \u001b[34mstats\u001b[39m::lag()\n",
      "\u001b[36mℹ\u001b[39m Use the conflicted package (\u001b[3m\u001b[34m<http://conflicted.r-lib.org/>\u001b[39m\u001b[23m) to force all conflicts to become errors\n",
      "── \u001b[1mAttaching packages\u001b[22m ────────────────────────────────────────────────────────────────────────────── tidymodels 1.1.1 ──\n",
      "\n",
      "\u001b[32m✔\u001b[39m \u001b[34mbroom       \u001b[39m 1.0.5      \u001b[32m✔\u001b[39m \u001b[34mrsample     \u001b[39m 1.2.0 \n",
      "\u001b[32m✔\u001b[39m \u001b[34mdials       \u001b[39m 1.2.1      \u001b[32m✔\u001b[39m \u001b[34mtune        \u001b[39m 1.1.2 \n",
      "\u001b[32m✔\u001b[39m \u001b[34minfer       \u001b[39m 1.0.6      \u001b[32m✔\u001b[39m \u001b[34mworkflows   \u001b[39m 1.1.4 \n",
      "\u001b[32m✔\u001b[39m \u001b[34mmodeldata   \u001b[39m 1.3.0      \u001b[32m✔\u001b[39m \u001b[34mworkflowsets\u001b[39m 1.0.1 \n",
      "\u001b[32m✔\u001b[39m \u001b[34mparsnip     \u001b[39m 1.2.0      \u001b[32m✔\u001b[39m \u001b[34myardstick   \u001b[39m 1.3.0 \n",
      "\u001b[32m✔\u001b[39m \u001b[34mrecipes     \u001b[39m 1.0.10     \n",
      "\n",
      "── \u001b[1mConflicts\u001b[22m ───────────────────────────────────────────────────────────────────────────────── tidymodels_conflicts() ──\n",
      "\u001b[31m✖\u001b[39m \u001b[34mscales\u001b[39m::\u001b[32mdiscard()\u001b[39m masks \u001b[34mpurrr\u001b[39m::discard()\n",
      "\u001b[31m✖\u001b[39m \u001b[34mdplyr\u001b[39m::\u001b[32mfilter()\u001b[39m   masks \u001b[34mstats\u001b[39m::filter()\n",
      "\u001b[31m✖\u001b[39m \u001b[34mrecipes\u001b[39m::\u001b[32mfixed()\u001b[39m  masks \u001b[34mstringr\u001b[39m::fixed()\n",
      "\u001b[31m✖\u001b[39m \u001b[34mdplyr\u001b[39m::\u001b[32mlag()\u001b[39m      masks \u001b[34mstats\u001b[39m::lag()\n",
      "\u001b[31m✖\u001b[39m \u001b[34myardstick\u001b[39m::\u001b[32mspec()\u001b[39m masks \u001b[34mreadr\u001b[39m::spec()\n",
      "\u001b[31m✖\u001b[39m \u001b[34mrecipes\u001b[39m::\u001b[32mstep()\u001b[39m   masks \u001b[34mstats\u001b[39m::step()\n",
      "\u001b[34m•\u001b[39m Use \u001b[32mtidymodels_prefer()\u001b[39m to resolve common conflicts.\n",
      "\n"
     ]
    }
   ],
   "source": [
    "install.packages(\"tidyverse\")\n",
    "install.packages(\"tidymodels\")\n",
    "library(tidyverse)\n",
    "library(tidymodels)"
   ]
  },
  {
   "cell_type": "markdown",
   "id": "7da5b29b-8d41-471b-bcb4-a89859ff4e59",
   "metadata": {},
   "source": [
    "Then we will download the dataset from our github repository (https://raw.githubusercontent.com/4ugenstern/DSCI-100-GroupProject/main/american_bankruptcy.csv):"
   ]
  },
  {
   "cell_type": "code",
   "execution_count": 2,
   "id": "5899d4f3-ad49-4b62-a961-c9a91f4cc9d9",
   "metadata": {},
   "outputs": [
    {
     "name": "stderr",
     "output_type": "stream",
     "text": [
      "\u001b[1mRows: \u001b[22m\u001b[34m78682\u001b[39m \u001b[1mColumns: \u001b[22m\u001b[34m21\u001b[39m\n",
      "\u001b[36m──\u001b[39m \u001b[1mColumn specification\u001b[22m \u001b[36m────────────────────────────────────────────────────────────────────────────────────────────────\u001b[39m\n",
      "\u001b[1mDelimiter:\u001b[22m \",\"\n",
      "\u001b[31mchr\u001b[39m  (2): company_name, status_label\n",
      "\u001b[32mdbl\u001b[39m (19): year, X1, X2, X3, X4, X5, X6, X7, X8, X9, X10, X11, X12, X13, X14,...\n",
      "\n",
      "\u001b[36mℹ\u001b[39m Use `spec()` to retrieve the full column specification for this data.\n",
      "\u001b[36mℹ\u001b[39m Specify the column types or set `show_col_types = FALSE` to quiet this message.\n"
     ]
    },
    {
     "data": {
      "text/html": [
       "<table class=\"dataframe\">\n",
       "<caption>A tibble: 6 × 21</caption>\n",
       "<thead>\n",
       "\t<tr><th scope=col>company_name</th><th scope=col>status_label</th><th scope=col>year</th><th scope=col>X1</th><th scope=col>X2</th><th scope=col>X3</th><th scope=col>X4</th><th scope=col>X5</th><th scope=col>X6</th><th scope=col>X7</th><th scope=col>⋯</th><th scope=col>X9</th><th scope=col>X10</th><th scope=col>X11</th><th scope=col>X12</th><th scope=col>X13</th><th scope=col>X14</th><th scope=col>X15</th><th scope=col>X16</th><th scope=col>X17</th><th scope=col>X18</th></tr>\n",
       "\t<tr><th scope=col>&lt;chr&gt;</th><th scope=col>&lt;chr&gt;</th><th scope=col>&lt;dbl&gt;</th><th scope=col>&lt;dbl&gt;</th><th scope=col>&lt;dbl&gt;</th><th scope=col>&lt;dbl&gt;</th><th scope=col>&lt;dbl&gt;</th><th scope=col>&lt;dbl&gt;</th><th scope=col>&lt;dbl&gt;</th><th scope=col>&lt;dbl&gt;</th><th scope=col>⋯</th><th scope=col>&lt;dbl&gt;</th><th scope=col>&lt;dbl&gt;</th><th scope=col>&lt;dbl&gt;</th><th scope=col>&lt;dbl&gt;</th><th scope=col>&lt;dbl&gt;</th><th scope=col>&lt;dbl&gt;</th><th scope=col>&lt;dbl&gt;</th><th scope=col>&lt;dbl&gt;</th><th scope=col>&lt;dbl&gt;</th><th scope=col>&lt;dbl&gt;</th></tr>\n",
       "</thead>\n",
       "<tbody>\n",
       "\t<tr><td>C_1</td><td>alive</td><td>1999</td><td>511.267</td><td>833.107</td><td>18.373</td><td>89.031</td><td>336.018</td><td> 35.163</td><td>128.348</td><td>⋯</td><td>1024.333</td><td>740.998</td><td>180.447</td><td>70.658</td><td>191.226</td><td>163.816</td><td>201.026</td><td>1024.333</td><td>401.483</td><td>935.302</td></tr>\n",
       "\t<tr><td>C_1</td><td>alive</td><td>2000</td><td>485.856</td><td>713.811</td><td>18.577</td><td>64.367</td><td>320.590</td><td> 18.531</td><td>115.187</td><td>⋯</td><td> 874.255</td><td>701.854</td><td>179.987</td><td>45.790</td><td>160.444</td><td>125.392</td><td>204.065</td><td> 874.255</td><td>361.642</td><td>809.888</td></tr>\n",
       "\t<tr><td>C_1</td><td>alive</td><td>2001</td><td>436.656</td><td>526.477</td><td>22.496</td><td>27.207</td><td>286.588</td><td>-58.939</td><td> 77.528</td><td>⋯</td><td> 638.721</td><td>710.199</td><td>217.699</td><td> 4.711</td><td>112.244</td><td>150.464</td><td>139.603</td><td> 638.721</td><td>399.964</td><td>611.514</td></tr>\n",
       "\t<tr><td>C_1</td><td>alive</td><td>2002</td><td>396.412</td><td>496.747</td><td>27.172</td><td>30.745</td><td>259.954</td><td>-12.410</td><td> 66.322</td><td>⋯</td><td> 606.337</td><td>686.621</td><td>164.658</td><td> 3.573</td><td>109.590</td><td>203.575</td><td>124.106</td><td> 606.337</td><td>391.633</td><td>575.592</td></tr>\n",
       "\t<tr><td>C_1</td><td>alive</td><td>2003</td><td>432.204</td><td>523.302</td><td>26.680</td><td>47.491</td><td>247.245</td><td>  3.504</td><td>104.661</td><td>⋯</td><td> 651.958</td><td>709.292</td><td>248.666</td><td>20.811</td><td>128.656</td><td>131.261</td><td>131.884</td><td> 651.958</td><td>407.608</td><td>604.467</td></tr>\n",
       "\t<tr><td>C_1</td><td>alive</td><td>2004</td><td>474.542</td><td>598.172</td><td>27.950</td><td>61.774</td><td>255.477</td><td> 15.453</td><td>127.121</td><td>⋯</td><td> 747.848</td><td>732.230</td><td>227.159</td><td>33.824</td><td>149.676</td><td>160.025</td><td>142.450</td><td> 747.848</td><td>417.486</td><td>686.074</td></tr>\n",
       "</tbody>\n",
       "</table>\n"
      ],
      "text/latex": [
       "A tibble: 6 × 21\n",
       "\\begin{tabular}{lllllllllllllllllllll}\n",
       " company\\_name & status\\_label & year & X1 & X2 & X3 & X4 & X5 & X6 & X7 & ⋯ & X9 & X10 & X11 & X12 & X13 & X14 & X15 & X16 & X17 & X18\\\\\n",
       " <chr> & <chr> & <dbl> & <dbl> & <dbl> & <dbl> & <dbl> & <dbl> & <dbl> & <dbl> & ⋯ & <dbl> & <dbl> & <dbl> & <dbl> & <dbl> & <dbl> & <dbl> & <dbl> & <dbl> & <dbl>\\\\\n",
       "\\hline\n",
       "\t C\\_1 & alive & 1999 & 511.267 & 833.107 & 18.373 & 89.031 & 336.018 &  35.163 & 128.348 & ⋯ & 1024.333 & 740.998 & 180.447 & 70.658 & 191.226 & 163.816 & 201.026 & 1024.333 & 401.483 & 935.302\\\\\n",
       "\t C\\_1 & alive & 2000 & 485.856 & 713.811 & 18.577 & 64.367 & 320.590 &  18.531 & 115.187 & ⋯ &  874.255 & 701.854 & 179.987 & 45.790 & 160.444 & 125.392 & 204.065 &  874.255 & 361.642 & 809.888\\\\\n",
       "\t C\\_1 & alive & 2001 & 436.656 & 526.477 & 22.496 & 27.207 & 286.588 & -58.939 &  77.528 & ⋯ &  638.721 & 710.199 & 217.699 &  4.711 & 112.244 & 150.464 & 139.603 &  638.721 & 399.964 & 611.514\\\\\n",
       "\t C\\_1 & alive & 2002 & 396.412 & 496.747 & 27.172 & 30.745 & 259.954 & -12.410 &  66.322 & ⋯ &  606.337 & 686.621 & 164.658 &  3.573 & 109.590 & 203.575 & 124.106 &  606.337 & 391.633 & 575.592\\\\\n",
       "\t C\\_1 & alive & 2003 & 432.204 & 523.302 & 26.680 & 47.491 & 247.245 &   3.504 & 104.661 & ⋯ &  651.958 & 709.292 & 248.666 & 20.811 & 128.656 & 131.261 & 131.884 &  651.958 & 407.608 & 604.467\\\\\n",
       "\t C\\_1 & alive & 2004 & 474.542 & 598.172 & 27.950 & 61.774 & 255.477 &  15.453 & 127.121 & ⋯ &  747.848 & 732.230 & 227.159 & 33.824 & 149.676 & 160.025 & 142.450 &  747.848 & 417.486 & 686.074\\\\\n",
       "\\end{tabular}\n"
      ],
      "text/markdown": [
       "\n",
       "A tibble: 6 × 21\n",
       "\n",
       "| company_name &lt;chr&gt; | status_label &lt;chr&gt; | year &lt;dbl&gt; | X1 &lt;dbl&gt; | X2 &lt;dbl&gt; | X3 &lt;dbl&gt; | X4 &lt;dbl&gt; | X5 &lt;dbl&gt; | X6 &lt;dbl&gt; | X7 &lt;dbl&gt; | ⋯ ⋯ | X9 &lt;dbl&gt; | X10 &lt;dbl&gt; | X11 &lt;dbl&gt; | X12 &lt;dbl&gt; | X13 &lt;dbl&gt; | X14 &lt;dbl&gt; | X15 &lt;dbl&gt; | X16 &lt;dbl&gt; | X17 &lt;dbl&gt; | X18 &lt;dbl&gt; |\n",
       "|---|---|---|---|---|---|---|---|---|---|---|---|---|---|---|---|---|---|---|---|---|\n",
       "| C_1 | alive | 1999 | 511.267 | 833.107 | 18.373 | 89.031 | 336.018 |  35.163 | 128.348 | ⋯ | 1024.333 | 740.998 | 180.447 | 70.658 | 191.226 | 163.816 | 201.026 | 1024.333 | 401.483 | 935.302 |\n",
       "| C_1 | alive | 2000 | 485.856 | 713.811 | 18.577 | 64.367 | 320.590 |  18.531 | 115.187 | ⋯ |  874.255 | 701.854 | 179.987 | 45.790 | 160.444 | 125.392 | 204.065 |  874.255 | 361.642 | 809.888 |\n",
       "| C_1 | alive | 2001 | 436.656 | 526.477 | 22.496 | 27.207 | 286.588 | -58.939 |  77.528 | ⋯ |  638.721 | 710.199 | 217.699 |  4.711 | 112.244 | 150.464 | 139.603 |  638.721 | 399.964 | 611.514 |\n",
       "| C_1 | alive | 2002 | 396.412 | 496.747 | 27.172 | 30.745 | 259.954 | -12.410 |  66.322 | ⋯ |  606.337 | 686.621 | 164.658 |  3.573 | 109.590 | 203.575 | 124.106 |  606.337 | 391.633 | 575.592 |\n",
       "| C_1 | alive | 2003 | 432.204 | 523.302 | 26.680 | 47.491 | 247.245 |   3.504 | 104.661 | ⋯ |  651.958 | 709.292 | 248.666 | 20.811 | 128.656 | 131.261 | 131.884 |  651.958 | 407.608 | 604.467 |\n",
       "| C_1 | alive | 2004 | 474.542 | 598.172 | 27.950 | 61.774 | 255.477 |  15.453 | 127.121 | ⋯ |  747.848 | 732.230 | 227.159 | 33.824 | 149.676 | 160.025 | 142.450 |  747.848 | 417.486 | 686.074 |\n",
       "\n"
      ],
      "text/plain": [
       "  company_name status_label year X1      X2      X3     X4     X5      X6     \n",
       "1 C_1          alive        1999 511.267 833.107 18.373 89.031 336.018  35.163\n",
       "2 C_1          alive        2000 485.856 713.811 18.577 64.367 320.590  18.531\n",
       "3 C_1          alive        2001 436.656 526.477 22.496 27.207 286.588 -58.939\n",
       "4 C_1          alive        2002 396.412 496.747 27.172 30.745 259.954 -12.410\n",
       "5 C_1          alive        2003 432.204 523.302 26.680 47.491 247.245   3.504\n",
       "6 C_1          alive        2004 474.542 598.172 27.950 61.774 255.477  15.453\n",
       "  X7      ⋯ X9       X10     X11     X12    X13     X14     X15     X16     \n",
       "1 128.348 ⋯ 1024.333 740.998 180.447 70.658 191.226 163.816 201.026 1024.333\n",
       "2 115.187 ⋯  874.255 701.854 179.987 45.790 160.444 125.392 204.065  874.255\n",
       "3  77.528 ⋯  638.721 710.199 217.699  4.711 112.244 150.464 139.603  638.721\n",
       "4  66.322 ⋯  606.337 686.621 164.658  3.573 109.590 203.575 124.106  606.337\n",
       "5 104.661 ⋯  651.958 709.292 248.666 20.811 128.656 131.261 131.884  651.958\n",
       "6 127.121 ⋯  747.848 732.230 227.159 33.824 149.676 160.025 142.450  747.848\n",
       "  X17     X18    \n",
       "1 401.483 935.302\n",
       "2 361.642 809.888\n",
       "3 399.964 611.514\n",
       "4 391.633 575.592\n",
       "5 407.608 604.467\n",
       "6 417.486 686.074"
      ]
     },
     "metadata": {},
     "output_type": "display_data"
    }
   ],
   "source": [
    "url = \"https://raw.githubusercontent.com/4ugenstern/DSCI-100-GroupProject/main/american_bankruptcy.csv\"\n",
    "download.file(url, \"data.csv\")\n",
    "\n",
    "raw_data <- read_csv(\"data.csv\")\n",
    "\n",
    "head(raw_data)\n",
    "\n",
    "bank_split <- initial_split(raw_data, prop = 0.75, strata = status_label)  \n",
    "bank_train <- training(bank_split)   \n",
    "bank_test <- testing(bank_split)"
   ]
  },
  {
   "cell_type": "markdown",
   "id": "a591ff85-f366-4eab-9022-4aa264a63c7a",
   "metadata": {},
   "source": [
    "### Clean and wrangle the dataset:"
   ]
  },
  {
   "cell_type": "code",
   "execution_count": null,
   "id": "84e1ac20-1b2e-4cb7-9fb6-09eaeb0162cf",
   "metadata": {},
   "outputs": [],
   "source": []
  }
 ],
 "metadata": {
  "kernelspec": {
   "display_name": "R",
   "language": "R",
   "name": "ir"
  },
  "language_info": {
   "codemirror_mode": "r",
   "file_extension": ".r",
   "mimetype": "text/x-r-source",
   "name": "R",
   "pygments_lexer": "r",
   "version": "4.3.3"
  }
 },
 "nbformat": 4,
 "nbformat_minor": 5
}
