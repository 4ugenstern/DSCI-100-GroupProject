{
 "cells": [
  {
   "cell_type": "markdown",
   "id": "2cf779b9-f7b1-45d5-a6d3-c3e05be971d3",
   "metadata": {},
   "source": [
    "# Optimizing Bankruptcy Prediction with K-NN, SMOTE and RandomForest"
   ]
  },
  {
   "cell_type": "markdown",
   "id": "e25efb0a-3a24-47a5-930e-1c503e8d0af7",
   "metadata": {},
   "source": [
    "## Introduction"
   ]
  },
  {
   "cell_type": "markdown",
   "id": "b86e40af-f7c1-4e18-a9ea-89684cf569a1",
   "metadata": {},
   "source": [
    "### Project Background"
   ]
  },
  {
   "cell_type": "markdown",
   "id": "5008e951-5608-4015-9152-4f95c02e7f73",
   "metadata": {},
   "source": [
    "The possibility of a company facing bankruptcy is a major concern in the economic and financial field. Predicting bankruptcy early can reduce risks and provide stakeholders with valuable information to make informed decisions. The project aims to leverage machine learning techniques to predict the probability of bankruptcy based on financial metrics. We particularly address the challenges posed by unbalanced datasets, which are common in bankruptcy prediction scenarios where the number of solvent companies far exceeds the number of insolvent companies."
   ]
  },
  {
   "cell_type": "markdown",
   "id": "cb0ae6ff-f2a5-45a8-8578-5dc5f8228a59",
   "metadata": {},
   "source": [
    "### Main Question"
   ]
  },
  {
   "cell_type": "markdown",
   "id": "c5d333d4-b199-419b-b1b4-a69edb7108fb",
   "metadata": {},
   "source": [
    "Can we accurately predict the likelihood of a company facing bankruptcy by applying *Synthetic Minority Over-sampling Technique (SMOTE)* for data balancing, *RandomForest* for factors selection and *K-NN* for classification? (That is, we are trying to build a model that can predict whether a company will go bankrupt)"
   ]
  },
  {
   "cell_type": "markdown",
   "id": "785eb4bf-ad46-4811-8485-8cbecbb6bdb6",
   "metadata": {},
   "source": [
    "### Dataset Description"
   ]
  },
  {
   "cell_type": "markdown",
   "id": "39765664-bc43-42ff-a7c5-0cc47bf1fa85",
   "metadata": {},
   "source": [
    "The dataset chosen for this project is from Kaggle (https://www.kaggle.com/datasets/utkarshx27/american-companies-bankruptcy-prediction-dataset/data) , which comprises various financial indicators of American public companies listed on the New York Stock Exchange and NASDAQ over a period. It includes features such as current assets, market value, inventory, depreciation and amortization etc. The target variable is binary, indicating whether a company went bankrupt or remained solvent within the time frame studied."
   ]
  },
  {
   "cell_type": "markdown",
   "id": "91632f65-12cb-4efd-92ba-08f8a555c62d",
   "metadata": {},
   "source": [
    "## Preliminary Exploratory Data Analysis"
   ]
  },
  {
   "cell_type": "markdown",
   "id": "0876a31b-9bfb-4771-b722-d721e542e8ce",
   "metadata": {},
   "source": [
    "### Read the dataset from internet"
   ]
  },
  {
   "cell_type": "markdown",
   "id": "8180128b-c61e-4698-83cd-42573d56d84d",
   "metadata": {},
   "source": [
    "First, we install and load the ***tidyverse*** and ***tidymodel*** libraries we're going to use:"
   ]
  },
  {
   "cell_type": "code",
   "execution_count": 24,
   "id": "624946ef-ff13-400a-96b6-89fedbb41b4f",
   "metadata": {
    "vscode": {
     "languageId": "r"
    }
   },
   "outputs": [],
   "source": [
    "# install.packages(\"tidyverse\")\n",
    "# install.packages(\"tidymodels\")\n",
    "library(tidyverse)\n",
    "library(tidymodels)"
   ]
  },
  {
   "cell_type": "markdown",
   "id": "7da5b29b-8d41-471b-bcb4-a89859ff4e59",
   "metadata": {},
   "source": [
    "Then we download the dataset from our github repository (https://raw.githubusercontent.com/4ugenstern/DSCI-100-GroupProject/main/american_bankruptcy.csv) and split the dataset to training and testing sets:"
   ]
  },
  {
   "cell_type": "code",
   "execution_count": 25,
   "id": "5899d4f3-ad49-4b62-a961-c9a91f4cc9d9",
   "metadata": {
    "vscode": {
     "languageId": "r"
    }
   },
   "outputs": [
    {
     "name": "stderr",
     "output_type": "stream",
     "text": [
      "\u001b[1mRows: \u001b[22m\u001b[34m78682\u001b[39m \u001b[1mColumns: \u001b[22m\u001b[34m21\u001b[39m\n",
      "\u001b[36m──\u001b[39m \u001b[1mColumn specification\u001b[22m \u001b[36m────────────────────────────────────────────────────────\u001b[39m\n",
      "\u001b[1mDelimiter:\u001b[22m \",\"\n",
      "\u001b[31mchr\u001b[39m  (2): company_name, status_label\n",
      "\u001b[32mdbl\u001b[39m (19): year, X1, X2, X3, X4, X5, X6, X7, X8, X9, X10, X11, X12, X13, X14,...\n",
      "\n",
      "\u001b[36mℹ\u001b[39m Use `spec()` to retrieve the full column specification for this data.\n",
      "\u001b[36mℹ\u001b[39m Specify the column types or set `show_col_types = FALSE` to quiet this message.\n"
     ]
    },
    {
     "name": "stdout",
     "output_type": "stream",
     "text": [
      "\n",
      "table 1:"
     ]
    },
    {
     "data": {
      "text/html": [
       "<table class=\"dataframe\">\n",
       "<caption>A tibble: 6 × 21</caption>\n",
       "<thead>\n",
       "\t<tr><th scope=col>company_name</th><th scope=col>status_label</th><th scope=col>year</th><th scope=col>X1</th><th scope=col>X2</th><th scope=col>X3</th><th scope=col>X4</th><th scope=col>X5</th><th scope=col>X6</th><th scope=col>X7</th><th scope=col>⋯</th><th scope=col>X9</th><th scope=col>X10</th><th scope=col>X11</th><th scope=col>X12</th><th scope=col>X13</th><th scope=col>X14</th><th scope=col>X15</th><th scope=col>X16</th><th scope=col>X17</th><th scope=col>X18</th></tr>\n",
       "\t<tr><th scope=col>&lt;chr&gt;</th><th scope=col>&lt;fct&gt;</th><th scope=col>&lt;dbl&gt;</th><th scope=col>&lt;dbl&gt;</th><th scope=col>&lt;dbl&gt;</th><th scope=col>&lt;dbl&gt;</th><th scope=col>&lt;dbl&gt;</th><th scope=col>&lt;dbl&gt;</th><th scope=col>&lt;dbl&gt;</th><th scope=col>&lt;dbl&gt;</th><th scope=col>⋯</th><th scope=col>&lt;dbl&gt;</th><th scope=col>&lt;dbl&gt;</th><th scope=col>&lt;dbl&gt;</th><th scope=col>&lt;dbl&gt;</th><th scope=col>&lt;dbl&gt;</th><th scope=col>&lt;dbl&gt;</th><th scope=col>&lt;dbl&gt;</th><th scope=col>&lt;dbl&gt;</th><th scope=col>&lt;dbl&gt;</th><th scope=col>&lt;dbl&gt;</th></tr>\n",
       "</thead>\n",
       "<tbody>\n",
       "\t<tr><td>C_1</td><td>alive</td><td>1999</td><td>511.267</td><td>833.107</td><td>18.373</td><td>89.031</td><td>336.018</td><td> 35.163</td><td>128.348</td><td>⋯</td><td>1024.333</td><td>740.998</td><td>180.447</td><td>70.658</td><td>191.226</td><td>163.816</td><td>201.026</td><td>1024.333</td><td>401.483</td><td>935.302</td></tr>\n",
       "\t<tr><td>C_1</td><td>alive</td><td>2000</td><td>485.856</td><td>713.811</td><td>18.577</td><td>64.367</td><td>320.590</td><td> 18.531</td><td>115.187</td><td>⋯</td><td> 874.255</td><td>701.854</td><td>179.987</td><td>45.790</td><td>160.444</td><td>125.392</td><td>204.065</td><td> 874.255</td><td>361.642</td><td>809.888</td></tr>\n",
       "\t<tr><td>C_1</td><td>alive</td><td>2001</td><td>436.656</td><td>526.477</td><td>22.496</td><td>27.207</td><td>286.588</td><td>-58.939</td><td> 77.528</td><td>⋯</td><td> 638.721</td><td>710.199</td><td>217.699</td><td> 4.711</td><td>112.244</td><td>150.464</td><td>139.603</td><td> 638.721</td><td>399.964</td><td>611.514</td></tr>\n",
       "\t<tr><td>C_1</td><td>alive</td><td>2002</td><td>396.412</td><td>496.747</td><td>27.172</td><td>30.745</td><td>259.954</td><td>-12.410</td><td> 66.322</td><td>⋯</td><td> 606.337</td><td>686.621</td><td>164.658</td><td> 3.573</td><td>109.590</td><td>203.575</td><td>124.106</td><td> 606.337</td><td>391.633</td><td>575.592</td></tr>\n",
       "\t<tr><td>C_1</td><td>alive</td><td>2003</td><td>432.204</td><td>523.302</td><td>26.680</td><td>47.491</td><td>247.245</td><td>  3.504</td><td>104.661</td><td>⋯</td><td> 651.958</td><td>709.292</td><td>248.666</td><td>20.811</td><td>128.656</td><td>131.261</td><td>131.884</td><td> 651.958</td><td>407.608</td><td>604.467</td></tr>\n",
       "\t<tr><td>C_1</td><td>alive</td><td>2004</td><td>474.542</td><td>598.172</td><td>27.950</td><td>61.774</td><td>255.477</td><td> 15.453</td><td>127.121</td><td>⋯</td><td> 747.848</td><td>732.230</td><td>227.159</td><td>33.824</td><td>149.676</td><td>160.025</td><td>142.450</td><td> 747.848</td><td>417.486</td><td>686.074</td></tr>\n",
       "</tbody>\n",
       "</table>\n"
      ],
      "text/latex": [
       "A tibble: 6 × 21\n",
       "\\begin{tabular}{lllllllllllllllllllll}\n",
       " company\\_name & status\\_label & year & X1 & X2 & X3 & X4 & X5 & X6 & X7 & ⋯ & X9 & X10 & X11 & X12 & X13 & X14 & X15 & X16 & X17 & X18\\\\\n",
       " <chr> & <fct> & <dbl> & <dbl> & <dbl> & <dbl> & <dbl> & <dbl> & <dbl> & <dbl> & ⋯ & <dbl> & <dbl> & <dbl> & <dbl> & <dbl> & <dbl> & <dbl> & <dbl> & <dbl> & <dbl>\\\\\n",
       "\\hline\n",
       "\t C\\_1 & alive & 1999 & 511.267 & 833.107 & 18.373 & 89.031 & 336.018 &  35.163 & 128.348 & ⋯ & 1024.333 & 740.998 & 180.447 & 70.658 & 191.226 & 163.816 & 201.026 & 1024.333 & 401.483 & 935.302\\\\\n",
       "\t C\\_1 & alive & 2000 & 485.856 & 713.811 & 18.577 & 64.367 & 320.590 &  18.531 & 115.187 & ⋯ &  874.255 & 701.854 & 179.987 & 45.790 & 160.444 & 125.392 & 204.065 &  874.255 & 361.642 & 809.888\\\\\n",
       "\t C\\_1 & alive & 2001 & 436.656 & 526.477 & 22.496 & 27.207 & 286.588 & -58.939 &  77.528 & ⋯ &  638.721 & 710.199 & 217.699 &  4.711 & 112.244 & 150.464 & 139.603 &  638.721 & 399.964 & 611.514\\\\\n",
       "\t C\\_1 & alive & 2002 & 396.412 & 496.747 & 27.172 & 30.745 & 259.954 & -12.410 &  66.322 & ⋯ &  606.337 & 686.621 & 164.658 &  3.573 & 109.590 & 203.575 & 124.106 &  606.337 & 391.633 & 575.592\\\\\n",
       "\t C\\_1 & alive & 2003 & 432.204 & 523.302 & 26.680 & 47.491 & 247.245 &   3.504 & 104.661 & ⋯ &  651.958 & 709.292 & 248.666 & 20.811 & 128.656 & 131.261 & 131.884 &  651.958 & 407.608 & 604.467\\\\\n",
       "\t C\\_1 & alive & 2004 & 474.542 & 598.172 & 27.950 & 61.774 & 255.477 &  15.453 & 127.121 & ⋯ &  747.848 & 732.230 & 227.159 & 33.824 & 149.676 & 160.025 & 142.450 &  747.848 & 417.486 & 686.074\\\\\n",
       "\\end{tabular}\n"
      ],
      "text/markdown": [
       "\n",
       "A tibble: 6 × 21\n",
       "\n",
       "| company_name &lt;chr&gt; | status_label &lt;fct&gt; | year &lt;dbl&gt; | X1 &lt;dbl&gt; | X2 &lt;dbl&gt; | X3 &lt;dbl&gt; | X4 &lt;dbl&gt; | X5 &lt;dbl&gt; | X6 &lt;dbl&gt; | X7 &lt;dbl&gt; | ⋯ ⋯ | X9 &lt;dbl&gt; | X10 &lt;dbl&gt; | X11 &lt;dbl&gt; | X12 &lt;dbl&gt; | X13 &lt;dbl&gt; | X14 &lt;dbl&gt; | X15 &lt;dbl&gt; | X16 &lt;dbl&gt; | X17 &lt;dbl&gt; | X18 &lt;dbl&gt; |\n",
       "|---|---|---|---|---|---|---|---|---|---|---|---|---|---|---|---|---|---|---|---|---|\n",
       "| C_1 | alive | 1999 | 511.267 | 833.107 | 18.373 | 89.031 | 336.018 |  35.163 | 128.348 | ⋯ | 1024.333 | 740.998 | 180.447 | 70.658 | 191.226 | 163.816 | 201.026 | 1024.333 | 401.483 | 935.302 |\n",
       "| C_1 | alive | 2000 | 485.856 | 713.811 | 18.577 | 64.367 | 320.590 |  18.531 | 115.187 | ⋯ |  874.255 | 701.854 | 179.987 | 45.790 | 160.444 | 125.392 | 204.065 |  874.255 | 361.642 | 809.888 |\n",
       "| C_1 | alive | 2001 | 436.656 | 526.477 | 22.496 | 27.207 | 286.588 | -58.939 |  77.528 | ⋯ |  638.721 | 710.199 | 217.699 |  4.711 | 112.244 | 150.464 | 139.603 |  638.721 | 399.964 | 611.514 |\n",
       "| C_1 | alive | 2002 | 396.412 | 496.747 | 27.172 | 30.745 | 259.954 | -12.410 |  66.322 | ⋯ |  606.337 | 686.621 | 164.658 |  3.573 | 109.590 | 203.575 | 124.106 |  606.337 | 391.633 | 575.592 |\n",
       "| C_1 | alive | 2003 | 432.204 | 523.302 | 26.680 | 47.491 | 247.245 |   3.504 | 104.661 | ⋯ |  651.958 | 709.292 | 248.666 | 20.811 | 128.656 | 131.261 | 131.884 |  651.958 | 407.608 | 604.467 |\n",
       "| C_1 | alive | 2004 | 474.542 | 598.172 | 27.950 | 61.774 | 255.477 |  15.453 | 127.121 | ⋯ |  747.848 | 732.230 | 227.159 | 33.824 | 149.676 | 160.025 | 142.450 |  747.848 | 417.486 | 686.074 |\n",
       "\n"
      ],
      "text/plain": [
       "  company_name status_label year X1      X2      X3     X4     X5      X6     \n",
       "1 C_1          alive        1999 511.267 833.107 18.373 89.031 336.018  35.163\n",
       "2 C_1          alive        2000 485.856 713.811 18.577 64.367 320.590  18.531\n",
       "3 C_1          alive        2001 436.656 526.477 22.496 27.207 286.588 -58.939\n",
       "4 C_1          alive        2002 396.412 496.747 27.172 30.745 259.954 -12.410\n",
       "5 C_1          alive        2003 432.204 523.302 26.680 47.491 247.245   3.504\n",
       "6 C_1          alive        2004 474.542 598.172 27.950 61.774 255.477  15.453\n",
       "  X7      ⋯ X9       X10     X11     X12    X13     X14     X15     X16     \n",
       "1 128.348 ⋯ 1024.333 740.998 180.447 70.658 191.226 163.816 201.026 1024.333\n",
       "2 115.187 ⋯  874.255 701.854 179.987 45.790 160.444 125.392 204.065  874.255\n",
       "3  77.528 ⋯  638.721 710.199 217.699  4.711 112.244 150.464 139.603  638.721\n",
       "4  66.322 ⋯  606.337 686.621 164.658  3.573 109.590 203.575 124.106  606.337\n",
       "5 104.661 ⋯  651.958 709.292 248.666 20.811 128.656 131.261 131.884  651.958\n",
       "6 127.121 ⋯  747.848 732.230 227.159 33.824 149.676 160.025 142.450  747.848\n",
       "  X17     X18    \n",
       "1 401.483 935.302\n",
       "2 361.642 809.888\n",
       "3 399.964 611.514\n",
       "4 391.633 575.592\n",
       "5 407.608 604.467\n",
       "6 417.486 686.074"
      ]
     },
     "metadata": {},
     "output_type": "display_data"
    }
   ],
   "source": [
    "url <- \"https://raw.githubusercontent.com/4ugenstern/DSCI-100-GroupProject/main/american_bankruptcy.csv\"\n",
    "download.file(url, \"data.csv\")\n",
    "\n",
    "raw_data <- read_csv(\"data.csv\") |>\n",
    "    mutate(status_label = as_factor(status_label))\n",
    "\n",
    "cat(\"\\ntable 1:\")\n",
    "head(raw_data)\n",
    "\n",
    "set.seed(1000)\n",
    "\n",
    "data_split <- initial_split(raw_data, prop = 0.5, strata = status_label)\n",
    "bank_train <- training(data_split)\n",
    "bank_test <- testing(data_split)"
   ]
  },
  {
   "cell_type": "markdown",
   "id": "a591ff85-f366-4eab-9022-4aa264a63c7a",
   "metadata": {},
   "source": [
    "### Clean and wrangle the dataset"
   ]
  },
  {
   "cell_type": "markdown",
   "id": "532d4f7a-34c9-4cc4-a8a0-30bb044fc899",
   "metadata": {},
   "source": [
    "As we can see from the dataset above, there is only one single observation in each row, only one single variable in each column (X1 to X18 have their own names, for convenience we will convert them into readable labels later), and each value is a single cell. Therefore, we claim that this dataset is already in the tidy format. The only thing we're going to do is to add another column with the status in numeric format, called \"status_label_num\"."
   ]
  },
  {
   "cell_type": "code",
   "execution_count": 26,
   "id": "e638c1ab-b6d6-4dcc-8fde-09f03e31869f",
   "metadata": {
    "vscode": {
     "languageId": "r"
    }
   },
   "outputs": [],
   "source": [
    "bank_train <- bank_train |>\n",
    "    mutate(status_label_num = ifelse(status_label == \"alive\", 1, 0)) # 1: alive, 0: failed\n",
    "\n",
    "bank_test <- bank_test |>\n",
    "    mutate(status_label_num = ifelse(status_label == \"alive\", 1, 0)) # 1: alive, 0: failed"
   ]
  },
  {
   "cell_type": "markdown",
   "id": "c1b1eae4-50d9-4e98-9210-65abc3614d9e",
   "metadata": {},
   "source": [
    "### Data Observation"
   ]
  },
  {
   "cell_type": "markdown",
   "id": "c648e18b-4e76-45d3-890d-a7eebecb6a95",
   "metadata": {},
   "source": [
    "We can observe the training set by counting first:"
   ]
  },
  {
   "cell_type": "code",
   "execution_count": 27,
   "id": "418899aa-137e-4b1a-ab91-813713503431",
   "metadata": {
    "vscode": {
     "languageId": "r"
    }
   },
   "outputs": [
    {
     "name": "stdout",
     "output_type": "stream",
     "text": [
      "[1] \"# of Rows: 39341\"\n",
      "[1] \"# of Columns: 22\"\n"
     ]
    }
   ],
   "source": [
    "print(paste(\"# of Rows:\", nrow(bank_train)))\n",
    "print(paste(\"# of Columns:\", ncol(bank_train)))"
   ]
  },
  {
   "cell_type": "markdown",
   "id": "110b9083-6ade-4fb1-b8db-b599192362ca",
   "metadata": {},
   "source": [
    "As we can see, there are 39341 rows and 22 columns in the training set."
   ]
  },
  {
   "cell_type": "markdown",
   "id": "4654e48a-e997-4467-a2eb-9328ca065cd1",
   "metadata": {},
   "source": [
    "Then, we summarize some statistics for the training set:"
   ]
  },
  {
   "cell_type": "code",
   "execution_count": 28,
   "id": "0beb2762-18c0-4614-b615-0fc49d9769f4",
   "metadata": {
    "vscode": {
     "languageId": "r"
    }
   },
   "outputs": [
    {
     "name": "stdout",
     "output_type": "stream",
     "text": [
      "\n",
      "table 2:"
     ]
    },
    {
     "data": {
      "text/html": [
       "<table class=\"dataframe\">\n",
       "<caption>A tibble: 18 × 9</caption>\n",
       "<thead>\n",
       "\t<tr><th scope=col>Factors</th><th scope=col># of Missing</th><th scope=col># of Unique</th><th scope=col>min</th><th scope=col>max</th><th scope=col>mean</th><th scope=col>Standard Deviation</th><th scope=col>percentile_25</th><th scope=col>percentile_75</th></tr>\n",
       "\t<tr><th scope=col>&lt;chr&gt;</th><th scope=col>&lt;int&gt;</th><th scope=col>&lt;int&gt;</th><th scope=col>&lt;dbl&gt;</th><th scope=col>&lt;dbl&gt;</th><th scope=col>&lt;dbl&gt;</th><th scope=col>&lt;dbl&gt;</th><th scope=col>&lt;dbl&gt;</th><th scope=col>&lt;dbl&gt;</th></tr>\n",
       "</thead>\n",
       "<tbody>\n",
       "\t<tr><td>X1 </td><td>0</td><td>35447</td><td>     -7.7600</td><td>169662.0</td><td> 905.3531</td><td> 4105.2285</td><td> 18.7630</td><td> 433.642</td></tr>\n",
       "\t<tr><td>X2 </td><td>0</td><td>35247</td><td>   -366.6450</td><td>374623.0</td><td>1632.1516</td><td> 9345.5055</td><td> 16.8420</td><td> 648.194</td></tr>\n",
       "\t<tr><td>X3 </td><td>0</td><td>22275</td><td>      0.0000</td><td> 22308.0</td><td> 124.0491</td><td>  651.5121</td><td>  1.1920</td><td>  48.683</td></tr>\n",
       "\t<tr><td>X4 </td><td>0</td><td>33176</td><td> -21913.0000</td><td> 81730.0</td><td> 390.6693</td><td> 2110.3948</td><td> -0.8570</td><td> 140.406</td></tr>\n",
       "\t<tr><td>X5 </td><td>0</td><td>22411</td><td>      0.0000</td><td> 62567.0</td><td> 208.1382</td><td> 1127.0417</td><td>  0.0020</td><td>  77.270</td></tr>\n",
       "\t<tr><td>X6 </td><td>0</td><td>31906</td><td> -98696.0000</td><td> 53394.0</td><td> 133.5935</td><td> 1304.2775</td><td> -7.5370</td><td>  40.078</td></tr>\n",
       "\t<tr><td>X7 </td><td>0</td><td>28452</td><td>     -0.0060</td><td> 65812.0</td><td> 294.7543</td><td> 1392.5724</td><td>  3.2260</td><td> 132.113</td></tr>\n",
       "\t<tr><td>X8 </td><td>0</td><td>39070</td><td>      0.0003</td><td>790050.1</td><td>3567.0112</td><td>19670.1594</td><td> 34.8908</td><td>1254.412</td></tr>\n",
       "\t<tr><td>X9 </td><td>0</td><td>36088</td><td>  -1964.9990</td><td>511729.0</td><td>2426.1500</td><td>12562.5706</td><td> 27.1700</td><td>1065.731</td></tr>\n",
       "\t<tr><td>X10</td><td>0</td><td>37311</td><td>      0.0010</td><td>375319.0</td><td>2921.5037</td><td>12958.4126</td><td> 37.3780</td><td>1181.883</td></tr>\n",
       "\t<tr><td>X11</td><td>0</td><td>21902</td><td>      0.0000</td><td>100720.0</td><td> 728.9727</td><td> 3087.9690</td><td>  0.0000</td><td> 245.000</td></tr>\n",
       "\t<tr><td>X12</td><td>0</td><td>32453</td><td> -25913.0000</td><td> 71230.0</td><td> 266.6199</td><td> 1611.3576</td><td> -2.7760</td><td>  88.969</td></tr>\n",
       "\t<tr><td>X13</td><td>0</td><td>35141</td><td> -21536.0000</td><td>137106.0</td><td> 793.9985</td><td> 3965.2267</td><td>  8.3300</td><td> 344.900</td></tr>\n",
       "\t<tr><td>X14</td><td>0</td><td>33019</td><td>      0.0020</td><td>100814.0</td><td> 623.4458</td><td> 3023.0599</td><td>  8.7920</td><td> 224.516</td></tr>\n",
       "\t<tr><td>X15</td><td>0</td><td>37620</td><td>-102362.0000</td><td>398278.0</td><td> 569.6724</td><td> 6727.7874</td><td>-68.8780</td><td> 151.474</td></tr>\n",
       "\t<tr><td>X16</td><td>0</td><td>36088</td><td>  -1964.9990</td><td>511729.0</td><td>2426.1500</td><td>12562.5706</td><td> 27.1700</td><td>1065.731</td></tr>\n",
       "\t<tr><td>X17</td><td>0</td><td>35161</td><td>      0.0020</td><td>241272.0</td><td>1794.9842</td><td> 7888.9817</td><td> 13.4720</td><td> 634.871</td></tr>\n",
       "\t<tr><td>X18</td><td>0</td><td>37153</td><td>   -317.1970</td><td>481580.0</td><td>2035.4810</td><td>10941.5245</td><td> 32.7030</td><td> 895.623</td></tr>\n",
       "</tbody>\n",
       "</table>\n"
      ],
      "text/latex": [
       "A tibble: 18 × 9\n",
       "\\begin{tabular}{lllllllll}\n",
       " Factors & \\# of Missing & \\# of Unique & min & max & mean & Standard Deviation & percentile\\_25 & percentile\\_75\\\\\n",
       " <chr> & <int> & <int> & <dbl> & <dbl> & <dbl> & <dbl> & <dbl> & <dbl>\\\\\n",
       "\\hline\n",
       "\t X1  & 0 & 35447 &      -7.7600 & 169662.0 &  905.3531 &  4105.2285 &  18.7630 &  433.642\\\\\n",
       "\t X2  & 0 & 35247 &    -366.6450 & 374623.0 & 1632.1516 &  9345.5055 &  16.8420 &  648.194\\\\\n",
       "\t X3  & 0 & 22275 &       0.0000 &  22308.0 &  124.0491 &   651.5121 &   1.1920 &   48.683\\\\\n",
       "\t X4  & 0 & 33176 &  -21913.0000 &  81730.0 &  390.6693 &  2110.3948 &  -0.8570 &  140.406\\\\\n",
       "\t X5  & 0 & 22411 &       0.0000 &  62567.0 &  208.1382 &  1127.0417 &   0.0020 &   77.270\\\\\n",
       "\t X6  & 0 & 31906 &  -98696.0000 &  53394.0 &  133.5935 &  1304.2775 &  -7.5370 &   40.078\\\\\n",
       "\t X7  & 0 & 28452 &      -0.0060 &  65812.0 &  294.7543 &  1392.5724 &   3.2260 &  132.113\\\\\n",
       "\t X8  & 0 & 39070 &       0.0003 & 790050.1 & 3567.0112 & 19670.1594 &  34.8908 & 1254.412\\\\\n",
       "\t X9  & 0 & 36088 &   -1964.9990 & 511729.0 & 2426.1500 & 12562.5706 &  27.1700 & 1065.731\\\\\n",
       "\t X10 & 0 & 37311 &       0.0010 & 375319.0 & 2921.5037 & 12958.4126 &  37.3780 & 1181.883\\\\\n",
       "\t X11 & 0 & 21902 &       0.0000 & 100720.0 &  728.9727 &  3087.9690 &   0.0000 &  245.000\\\\\n",
       "\t X12 & 0 & 32453 &  -25913.0000 &  71230.0 &  266.6199 &  1611.3576 &  -2.7760 &   88.969\\\\\n",
       "\t X13 & 0 & 35141 &  -21536.0000 & 137106.0 &  793.9985 &  3965.2267 &   8.3300 &  344.900\\\\\n",
       "\t X14 & 0 & 33019 &       0.0020 & 100814.0 &  623.4458 &  3023.0599 &   8.7920 &  224.516\\\\\n",
       "\t X15 & 0 & 37620 & -102362.0000 & 398278.0 &  569.6724 &  6727.7874 & -68.8780 &  151.474\\\\\n",
       "\t X16 & 0 & 36088 &   -1964.9990 & 511729.0 & 2426.1500 & 12562.5706 &  27.1700 & 1065.731\\\\\n",
       "\t X17 & 0 & 35161 &       0.0020 & 241272.0 & 1794.9842 &  7888.9817 &  13.4720 &  634.871\\\\\n",
       "\t X18 & 0 & 37153 &    -317.1970 & 481580.0 & 2035.4810 & 10941.5245 &  32.7030 &  895.623\\\\\n",
       "\\end{tabular}\n"
      ],
      "text/markdown": [
       "\n",
       "A tibble: 18 × 9\n",
       "\n",
       "| Factors &lt;chr&gt; | # of Missing &lt;int&gt; | # of Unique &lt;int&gt; | min &lt;dbl&gt; | max &lt;dbl&gt; | mean &lt;dbl&gt; | Standard Deviation &lt;dbl&gt; | percentile_25 &lt;dbl&gt; | percentile_75 &lt;dbl&gt; |\n",
       "|---|---|---|---|---|---|---|---|---|\n",
       "| X1  | 0 | 35447 |      -7.7600 | 169662.0 |  905.3531 |  4105.2285 |  18.7630 |  433.642 |\n",
       "| X2  | 0 | 35247 |    -366.6450 | 374623.0 | 1632.1516 |  9345.5055 |  16.8420 |  648.194 |\n",
       "| X3  | 0 | 22275 |       0.0000 |  22308.0 |  124.0491 |   651.5121 |   1.1920 |   48.683 |\n",
       "| X4  | 0 | 33176 |  -21913.0000 |  81730.0 |  390.6693 |  2110.3948 |  -0.8570 |  140.406 |\n",
       "| X5  | 0 | 22411 |       0.0000 |  62567.0 |  208.1382 |  1127.0417 |   0.0020 |   77.270 |\n",
       "| X6  | 0 | 31906 |  -98696.0000 |  53394.0 |  133.5935 |  1304.2775 |  -7.5370 |   40.078 |\n",
       "| X7  | 0 | 28452 |      -0.0060 |  65812.0 |  294.7543 |  1392.5724 |   3.2260 |  132.113 |\n",
       "| X8  | 0 | 39070 |       0.0003 | 790050.1 | 3567.0112 | 19670.1594 |  34.8908 | 1254.412 |\n",
       "| X9  | 0 | 36088 |   -1964.9990 | 511729.0 | 2426.1500 | 12562.5706 |  27.1700 | 1065.731 |\n",
       "| X10 | 0 | 37311 |       0.0010 | 375319.0 | 2921.5037 | 12958.4126 |  37.3780 | 1181.883 |\n",
       "| X11 | 0 | 21902 |       0.0000 | 100720.0 |  728.9727 |  3087.9690 |   0.0000 |  245.000 |\n",
       "| X12 | 0 | 32453 |  -25913.0000 |  71230.0 |  266.6199 |  1611.3576 |  -2.7760 |   88.969 |\n",
       "| X13 | 0 | 35141 |  -21536.0000 | 137106.0 |  793.9985 |  3965.2267 |   8.3300 |  344.900 |\n",
       "| X14 | 0 | 33019 |       0.0020 | 100814.0 |  623.4458 |  3023.0599 |   8.7920 |  224.516 |\n",
       "| X15 | 0 | 37620 | -102362.0000 | 398278.0 |  569.6724 |  6727.7874 | -68.8780 |  151.474 |\n",
       "| X16 | 0 | 36088 |   -1964.9990 | 511729.0 | 2426.1500 | 12562.5706 |  27.1700 | 1065.731 |\n",
       "| X17 | 0 | 35161 |       0.0020 | 241272.0 | 1794.9842 |  7888.9817 |  13.4720 |  634.871 |\n",
       "| X18 | 0 | 37153 |    -317.1970 | 481580.0 | 2035.4810 | 10941.5245 |  32.7030 |  895.623 |\n",
       "\n"
      ],
      "text/plain": [
       "   Factors # of Missing # of Unique min          max      mean     \n",
       "1  X1      0            35447            -7.7600 169662.0  905.3531\n",
       "2  X2      0            35247          -366.6450 374623.0 1632.1516\n",
       "3  X3      0            22275             0.0000  22308.0  124.0491\n",
       "4  X4      0            33176        -21913.0000  81730.0  390.6693\n",
       "5  X5      0            22411             0.0000  62567.0  208.1382\n",
       "6  X6      0            31906        -98696.0000  53394.0  133.5935\n",
       "7  X7      0            28452            -0.0060  65812.0  294.7543\n",
       "8  X8      0            39070             0.0003 790050.1 3567.0112\n",
       "9  X9      0            36088         -1964.9990 511729.0 2426.1500\n",
       "10 X10     0            37311             0.0010 375319.0 2921.5037\n",
       "11 X11     0            21902             0.0000 100720.0  728.9727\n",
       "12 X12     0            32453        -25913.0000  71230.0  266.6199\n",
       "13 X13     0            35141        -21536.0000 137106.0  793.9985\n",
       "14 X14     0            33019             0.0020 100814.0  623.4458\n",
       "15 X15     0            37620       -102362.0000 398278.0  569.6724\n",
       "16 X16     0            36088         -1964.9990 511729.0 2426.1500\n",
       "17 X17     0            35161             0.0020 241272.0 1794.9842\n",
       "18 X18     0            37153          -317.1970 481580.0 2035.4810\n",
       "   Standard Deviation percentile_25 percentile_75\n",
       "1   4105.2285          18.7630       433.642     \n",
       "2   9345.5055          16.8420       648.194     \n",
       "3    651.5121           1.1920        48.683     \n",
       "4   2110.3948          -0.8570       140.406     \n",
       "5   1127.0417           0.0020        77.270     \n",
       "6   1304.2775          -7.5370        40.078     \n",
       "7   1392.5724           3.2260       132.113     \n",
       "8  19670.1594          34.8908      1254.412     \n",
       "9  12562.5706          27.1700      1065.731     \n",
       "10 12958.4126          37.3780      1181.883     \n",
       "11  3087.9690           0.0000       245.000     \n",
       "12  1611.3576          -2.7760        88.969     \n",
       "13  3965.2267           8.3300       344.900     \n",
       "14  3023.0599           8.7920       224.516     \n",
       "15  6727.7874         -68.8780       151.474     \n",
       "16 12562.5706          27.1700      1065.731     \n",
       "17  7888.9817          13.4720       634.871     \n",
       "18 10941.5245          32.7030       895.623     "
      ]
     },
     "metadata": {},
     "output_type": "display_data"
    }
   ],
   "source": [
    "cat(\"\\ntable 2:\")\n",
    "bank_train |>\n",
    "    pivot_longer(X1:X18, names_to = \"Factors\", values_to = \"Values\") |>\n",
    "    group_by(Factors) |>\n",
    "    summarize(\"# of Missing\" = sum(is.na(Values)),\n",
    "             \"# of Unique\" = n_distinct(Values, na.rm = TRUE),\n",
    "             \"min\" = min(Values, na.rm = TRUE),\n",
    "             \"max\" = max(Values, na.rm = TRUE),\n",
    "             \"mean\" = mean(Values, na.rm = TRUE),\n",
    "             \"Standard Deviation\" = sd(Values, na.rm = TRUE),\n",
    "             \"percentile_25\" = quantile(Values, 0.25, na.rm = TRUE),\n",
    "             \"percentile_75\" = quantile(Values, 0.75, na.rm = TRUE)) |>\n",
    "    mutate(Factors_numeric = as.numeric(gsub(\"X\", \"\", Factors))) |>\n",
    "    arrange(Factors_numeric) |>\n",
    "    select(-Factors_numeric)"
   ]
  },
  {
   "cell_type": "markdown",
   "id": "da7f45aa-f020-4048-b65d-a5b29f8c3963",
   "metadata": {},
   "source": [
    "### Target Column Distribution"
   ]
  },
  {
   "cell_type": "markdown",
   "id": "654bd5e0-8992-4a13-bba2-e83f78e432ed",
   "metadata": {},
   "source": [
    "We use *pie()* function to make a pie chart of our target column:"
   ]
  },
  {
   "cell_type": "code",
   "execution_count": 29,
   "id": "198e8ced-de9a-496a-972d-d88c57f5b9e5",
   "metadata": {
    "vscode": {
     "languageId": "r"
    }
   },
   "outputs": [
    {
     "data": {
      "image/png": "[encoded data removed]",
      "text/plain": [
       "Plot with title \"Distribution of Company Statuses in Training Set (figure 1)\""
      ]
     },
     "metadata": {
      "image/png": {
       "height": 540,
       "width": 600
      }
     },
     "output_type": "display_data"
    }
   ],
   "source": [
    "alive <- filter(bank_train, status_label == \"alive\")\n",
    "total_number <- nrow(bank_train)\n",
    "alive_number <- nrow(alive)\n",
    "failed_number <- total_number - alive_number\n",
    "\n",
    "pie_data <- c(alive_number, failed_number)\n",
    "pie_labels <- c(\"Alive\", \"Failed\")\n",
    "status_label <- c(\"Alive\", \"Failed\")\n",
    "slice_colors <- c(\"red\", \"blue\")\n",
    "\n",
    "pie(pie_data, labels = percent(pie_data / sum(pie_data)), col = slice_colors, main = \"Distribution of Company Statuses in Training Set (figure 1)\")\n",
    "\n",
    "legend(\"topright\",\n",
    "    legend = status_label,\n",
    "    fill = slice_colors,\n",
    "    title = \"Company Status\")"
   ]
  },
  {
   "cell_type": "markdown",
   "id": "fa78adcb-a183-47c0-ba64-3cf73ffdbfb6",
   "metadata": {
    "jp-MarkdownHeadingCollapsed": true
   },
   "source": [
    "The \"Alive Ratio\" is approximately 92% and the \"Failed Ratio\" is approximately 7%, which means that 93% of the samples belongs to the \"Alive\" class (haven't gone bankrupt) and 7% of the samples belongs to the \"Failed\" class (have gone bankrupt).\n",
    "\n",
    "We could also claim that this is a highly imbalanced dataset and the model may be biased and cause problems when identifying minority groups. To address the issue, we will use some class balancing techniques like *Synthetic Minority Over-sampling Technique (SMOTE)* to oversample the minority class (Failed)."
   ]
  },
  {
   "cell_type": "markdown",
   "id": "1e9676fd-3797-435a-8226-5a61114f8c32",
   "metadata": {},
   "source": [
    "### Outliers"
   ]
  },
  {
   "cell_type": "markdown",
   "id": "2a92b3ee-b796-4b2e-a142-e6a2675636b9",
   "metadata": {},
   "source": [
    "First, we convert the dataframe to a longer version:"
   ]
  },
  {
   "cell_type": "code",
   "execution_count": 30,
   "id": "4da215b9-e7ff-455e-8716-51d1802ae486",
   "metadata": {
    "vscode": {
     "languageId": "r"
    }
   },
   "outputs": [],
   "source": [
    "bank_long <- bank_train |>\n",
    "    select(-c(company_name, status_label, year, status_label_num)) |>\n",
    "    pivot_longer(cols = everything(), names_to = \"Variable\", values_to = \"Value\")"
   ]
  },
  {
   "cell_type": "markdown",
   "id": "b8f4e4a4-5713-4b73-9f48-913a14befc98",
   "metadata": {},
   "source": [
    "Then we can draw the boxplot for each factor:"
   ]
  },
  {
   "cell_type": "code",
   "execution_count": 31,
   "id": "52698fff-4153-4425-90bb-f5a3cf486f3a",
   "metadata": {
    "vscode": {
     "languageId": "r"
    }
   },
   "outputs": [
    {
     "data": {
      "image/png": "[encoded data removed]",
      "text/plain": [
       "plot without title"
      ]
     },
     "metadata": {
      "image/png": {
       "height": 600,
       "width": 600
      }
     },
     "output_type": "display_data"
    }
   ],
   "source": [
    "options(repr.plot.width = 10, repr.plot.height = 10)\n",
    "\n",
    "ggplot(bank_long, aes(x = Variable, y = Value)) + \n",
    "    geom_boxplot(alpha = 0.5, outlier.colour = \"red\") +\n",
    "    theme(axis.text.x = element_text(size = 12, angle = 45, hjust = 1),\n",
    "          axis.text.y = element_text(size = 12),\n",
    "          axis.title.x = element_text(size = 14),\n",
    "          axis.title.y = element_text(size = 14),\n",
    "          plot.title = element_text(size = 16)) + \n",
    "    labs(title = \"Boxplot for Identifying Outliers (figure 2)\", x = \"Variable\", y = \"Value\")"
   ]
  },
  {
   "cell_type": "markdown",
   "id": "66ade921-6a9b-4016-b619-bfabf1b78691",
   "metadata": {},
   "source": [
    "### Correlation Matrix"
   ]
  },
  {
   "cell_type": "markdown",
   "id": "9e953287-dc9e-4763-b89e-eddfac2025c1",
   "metadata": {},
   "source": [
    "First, we install and load the ***ggplot2*** and ***reshape2*** libraries to plot the graph:"
   ]
  },
  {
   "cell_type": "code",
   "execution_count": 32,
   "id": "86230a0f-42d7-4454-af29-c77736e66717",
   "metadata": {
    "vscode": {
     "languageId": "r"
    }
   },
   "outputs": [],
   "source": [
    "# install.packages(\"ggplot2\")\n",
    "# install.packages(\"reshape2\")\n",
    "library(ggplot2)\n",
    "library(reshape2)"
   ]
  },
  {
   "cell_type": "code",
   "execution_count": 33,
   "id": "6cbe8aed-06e7-4df0-b9a7-4e3e3b625e15",
   "metadata": {
    "vscode": {
     "languageId": "r"
    }
   },
   "outputs": [
    {
     "data": {
      "image/png": "[encoded data removed]",
      "text/plain": [
       "plot without title"
      ]
     },
     "metadata": {
      "image/png": {
       "height": 540,
       "width": 600
      }
     },
     "output_type": "display_data"
    }
   ],
   "source": [
    "bank_train_select <- select(bank_train, -c(company_name, status_label, year, status_label_num))\n",
    "cor_bank_train <- cor(bank_train_select)\n",
    "\n",
    "long_cor <- melt(cor_bank_train)\n",
    "\n",
    "options(repr.plot.width = 10, repr.plot.height = 9)\n",
    "\n",
    "ggplot(data = long_cor, aes(x = Var1, y = Var2, fill = value)) +\n",
    "    geom_tile() +\n",
    "    geom_text(aes(label = sprintf(\"%.2f\", value)), vjust = 1) +\n",
    "    scale_fill_gradient2(low = \"blue\", high = \"red\", mid = \"white\",\n",
    "                         midpoint = 0.65, limit = c(0.3,1), space = \"Lab\",\n",
    "                         name=\"Pearson\\nCorrelation\") +\n",
    "    labs(title = \"figure 3\") +\n",
    "    theme(axis.text.x = element_text(angle = 45, vjust = 1, size = 12, hjust = 1),\n",
    "          axis.text.y = element_text(size = 12)) +\n",
    "    coord_fixed()"
   ]
  },
  {
   "cell_type": "markdown",
   "id": "848cfd93-b510-4f64-b88e-aadbc51fe0d9",
   "metadata": {},
   "source": [
    "As we can see from the Correlation Matrix,  \n",
    "- *X2*, *X9*, *X16* and *X18* are highly correlated to each other;\n",
    "- *X4* and *X12* are highly correlated to each other;\n",
    "- *X10*, *X11* and *X17* are highly correlated to each other.\n",
    "- *X9 = X16*\n",
    "- *X16 - X2 = X13*\n",
    "- *X14 - X12 = X3*"
   ]
  },
  {
   "cell_type": "markdown",
   "id": "b2b254e1-15a3-4397-95b0-7ec8c073456a",
   "metadata": {},
   "source": [
    "## Methods"
   ]
  },
  {
   "cell_type": "markdown",
   "id": "a4b754be-dda4-4e74-beaa-84e4565e5a76",
   "metadata": {},
   "source": [
    "- Apply ***SMOTE*** to oversample the failed class.   \n",
    "  The reason why we choose to use ***SMOTE*** is it helps address class imbalance by generating synthetic examples from the minority class, thereby providing a more balanced dataset. This improved balance can enhance the performance of machine learning models by preventing them from being overly biased towards the majority class, leading to better generalization and accuracy in predicting minority class outcomes.\n",
    "- Apply ***RandomForest*** to find out the most important factors.\n",
    "  The reason why we choose to use ***RandomForest*** is it is an effective ensemble learning method for binary classification that utilizes multiple decision trees to make predictions. By aggregating the decisions from various trees, it reduces overfitting and improves accuracy. Importantly, Random Forest can also rank the importance of different factors (features) in the classification task, allowing us to identify and focus on the most influential variables for predictive modeling.\n",
    "- Build the main models with our training data.\n",
    "- Use the testing data to test the accuracy of the model and enhance the model."
   ]
  },
  {
   "cell_type": "markdown",
   "id": "d3097656-a269-4c40-a463-f33012b4dc52",
   "metadata": {},
   "source": [
    "### Factor Choose"
   ]
  },
  {
   "cell_type": "markdown",
   "id": "56ad4f6b-6378-4f76-b094-5f05828428c0",
   "metadata": {},
   "source": [
    "First, we install and load the ***smotefamily***  library:"
   ]
  },
  {
   "cell_type": "code",
   "execution_count": 34,
   "id": "a5c90573-b557-4e84-bbd9-2bd456befe41",
   "metadata": {
    "vscode": {
     "languageId": "r"
    }
   },
   "outputs": [],
   "source": [
    "# install.packages(\"smotefamily\")\n",
    "library(smotefamily)"
   ]
  },
  {
   "cell_type": "markdown",
   "id": "59e9476a-de3b-458b-b936-1a159b9d813b",
   "metadata": {},
   "source": [
    "Then, we apply *SMOTE* technique to oversample the failed class:"
   ]
  },
  {
   "cell_type": "code",
   "execution_count": 35,
   "id": "0ba493e9-6fd1-4ee6-9f03-b462a4143746",
   "metadata": {
    "vscode": {
     "languageId": "r"
    }
   },
   "outputs": [
    {
     "name": "stdout",
     "output_type": "stream",
     "text": [
      "\n",
      "table 3:"
     ]
    },
    {
     "data": {
      "text/html": [
       "<table class=\"dataframe\">\n",
       "<caption>A tibble: 6 × 20</caption>\n",
       "<thead>\n",
       "\t<tr><th scope=col>X1</th><th scope=col>X2</th><th scope=col>X3</th><th scope=col>X4</th><th scope=col>X5</th><th scope=col>X6</th><th scope=col>X7</th><th scope=col>X8</th><th scope=col>X9</th><th scope=col>X10</th><th scope=col>X11</th><th scope=col>X12</th><th scope=col>X13</th><th scope=col>X14</th><th scope=col>X15</th><th scope=col>X16</th><th scope=col>X17</th><th scope=col>X18</th><th scope=col>status_label</th><th scope=col>status_label_num</th></tr>\n",
       "\t<tr><th scope=col>&lt;dbl&gt;</th><th scope=col>&lt;dbl&gt;</th><th scope=col>&lt;dbl&gt;</th><th scope=col>&lt;dbl&gt;</th><th scope=col>&lt;dbl&gt;</th><th scope=col>&lt;dbl&gt;</th><th scope=col>&lt;dbl&gt;</th><th scope=col>&lt;dbl&gt;</th><th scope=col>&lt;dbl&gt;</th><th scope=col>&lt;dbl&gt;</th><th scope=col>&lt;dbl&gt;</th><th scope=col>&lt;dbl&gt;</th><th scope=col>&lt;dbl&gt;</th><th scope=col>&lt;dbl&gt;</th><th scope=col>&lt;dbl&gt;</th><th scope=col>&lt;dbl&gt;</th><th scope=col>&lt;dbl&gt;</th><th scope=col>&lt;dbl&gt;</th><th scope=col>&lt;chr&gt;</th><th scope=col>&lt;dbl&gt;</th></tr>\n",
       "</thead>\n",
       "<tbody>\n",
       "\t<tr><td>  69.263</td><td>   7.549</td><td>  1.701</td><td> -33.247</td><td>  0.395</td><td> -35.778</td><td>   0.953</td><td>  55.9810</td><td>   8.754</td><td>   90.180</td><td>  90.000</td><td> -34.948</td><td>   1.205</td><td>   8.132</td><td>  -92.036</td><td>   8.754</td><td>  98.277</td><td>  42.001</td><td>failed</td><td>0</td></tr>\n",
       "\t<tr><td>  34.674</td><td>  53.724</td><td> 63.072</td><td> 143.240</td><td>  0.000</td><td>  29.894</td><td>  28.650</td><td> 463.1054</td><td> 211.061</td><td>  861.055</td><td> 340.255</td><td>  80.168</td><td> 157.337</td><td>  69.773</td><td>   69.804</td><td> 211.061</td><td> 463.664</td><td>  67.821</td><td>failed</td><td>0</td></tr>\n",
       "\t<tr><td>2703.000</td><td>4839.000</td><td>284.000</td><td>-250.000</td><td>607.000</td><td>-764.000</td><td>1103.000</td><td> 176.2613</td><td>6022.000</td><td> 4678.000</td><td>1363.000</td><td>-534.000</td><td>1183.000</td><td>2150.000</td><td> 1405.000</td><td>6022.000</td><td>7028.000</td><td>6272.000</td><td>failed</td><td>0</td></tr>\n",
       "\t<tr><td>  56.978</td><td>  48.433</td><td>  3.002</td><td>  25.528</td><td> 18.105</td><td>  14.652</td><td>  17.878</td><td> 417.5308</td><td> 103.194</td><td>  104.291</td><td>   3.000</td><td>  22.526</td><td>  54.761</td><td>   5.011</td><td>  -24.644</td><td> 103.194</td><td>   8.011</td><td>  77.666</td><td>failed</td><td>0</td></tr>\n",
       "\t<tr><td>1965.000</td><td>5846.000</td><td>401.000</td><td> 897.000</td><td>677.000</td><td>  65.000</td><td> 540.000</td><td>3764.3000</td><td>7483.000</td><td>10805.000</td><td>4918.000</td><td> 496.000</td><td>1637.000</td><td>1375.000</td><td>-1605.000</td><td>7483.000</td><td>8485.000</td><td>6586.000</td><td>failed</td><td>0</td></tr>\n",
       "\t<tr><td>  40.839</td><td>  70.700</td><td>  1.173</td><td>   4.977</td><td> 18.414</td><td>   1.211</td><td>  17.128</td><td>  33.5204</td><td>  91.658</td><td>   65.591</td><td>   0.000</td><td>   3.804</td><td>  20.958</td><td>  33.081</td><td>  -13.369</td><td>  91.658</td><td>  33.167</td><td>  86.681</td><td>failed</td><td>0</td></tr>\n",
       "</tbody>\n",
       "</table>\n"
      ],
      "text/latex": [
       "A tibble: 6 × 20\n",
       "\\begin{tabular}{llllllllllllllllllll}\n",
       " X1 & X2 & X3 & X4 & X5 & X6 & X7 & X8 & X9 & X10 & X11 & X12 & X13 & X14 & X15 & X16 & X17 & X18 & status\\_label & status\\_label\\_num\\\\\n",
       " <dbl> & <dbl> & <dbl> & <dbl> & <dbl> & <dbl> & <dbl> & <dbl> & <dbl> & <dbl> & <dbl> & <dbl> & <dbl> & <dbl> & <dbl> & <dbl> & <dbl> & <dbl> & <chr> & <dbl>\\\\\n",
       "\\hline\n",
       "\t   69.263 &    7.549 &   1.701 &  -33.247 &   0.395 &  -35.778 &    0.953 &   55.9810 &    8.754 &    90.180 &   90.000 &  -34.948 &    1.205 &    8.132 &   -92.036 &    8.754 &   98.277 &   42.001 & failed & 0\\\\\n",
       "\t   34.674 &   53.724 &  63.072 &  143.240 &   0.000 &   29.894 &   28.650 &  463.1054 &  211.061 &   861.055 &  340.255 &   80.168 &  157.337 &   69.773 &    69.804 &  211.061 &  463.664 &   67.821 & failed & 0\\\\\n",
       "\t 2703.000 & 4839.000 & 284.000 & -250.000 & 607.000 & -764.000 & 1103.000 &  176.2613 & 6022.000 &  4678.000 & 1363.000 & -534.000 & 1183.000 & 2150.000 &  1405.000 & 6022.000 & 7028.000 & 6272.000 & failed & 0\\\\\n",
       "\t   56.978 &   48.433 &   3.002 &   25.528 &  18.105 &   14.652 &   17.878 &  417.5308 &  103.194 &   104.291 &    3.000 &   22.526 &   54.761 &    5.011 &   -24.644 &  103.194 &    8.011 &   77.666 & failed & 0\\\\\n",
       "\t 1965.000 & 5846.000 & 401.000 &  897.000 & 677.000 &   65.000 &  540.000 & 3764.3000 & 7483.000 & 10805.000 & 4918.000 &  496.000 & 1637.000 & 1375.000 & -1605.000 & 7483.000 & 8485.000 & 6586.000 & failed & 0\\\\\n",
       "\t   40.839 &   70.700 &   1.173 &    4.977 &  18.414 &    1.211 &   17.128 &   33.5204 &   91.658 &    65.591 &    0.000 &    3.804 &   20.958 &   33.081 &   -13.369 &   91.658 &   33.167 &   86.681 & failed & 0\\\\\n",
       "\\end{tabular}\n"
      ],
      "text/markdown": [
       "\n",
       "A tibble: 6 × 20\n",
       "\n",
       "| X1 &lt;dbl&gt; | X2 &lt;dbl&gt; | X3 &lt;dbl&gt; | X4 &lt;dbl&gt; | X5 &lt;dbl&gt; | X6 &lt;dbl&gt; | X7 &lt;dbl&gt; | X8 &lt;dbl&gt; | X9 &lt;dbl&gt; | X10 &lt;dbl&gt; | X11 &lt;dbl&gt; | X12 &lt;dbl&gt; | X13 &lt;dbl&gt; | X14 &lt;dbl&gt; | X15 &lt;dbl&gt; | X16 &lt;dbl&gt; | X17 &lt;dbl&gt; | X18 &lt;dbl&gt; | status_label &lt;chr&gt; | status_label_num &lt;dbl&gt; |\n",
       "|---|---|---|---|---|---|---|---|---|---|---|---|---|---|---|---|---|---|---|---|\n",
       "|   69.263 |    7.549 |   1.701 |  -33.247 |   0.395 |  -35.778 |    0.953 |   55.9810 |    8.754 |    90.180 |   90.000 |  -34.948 |    1.205 |    8.132 |   -92.036 |    8.754 |   98.277 |   42.001 | failed | 0 |\n",
       "|   34.674 |   53.724 |  63.072 |  143.240 |   0.000 |   29.894 |   28.650 |  463.1054 |  211.061 |   861.055 |  340.255 |   80.168 |  157.337 |   69.773 |    69.804 |  211.061 |  463.664 |   67.821 | failed | 0 |\n",
       "| 2703.000 | 4839.000 | 284.000 | -250.000 | 607.000 | -764.000 | 1103.000 |  176.2613 | 6022.000 |  4678.000 | 1363.000 | -534.000 | 1183.000 | 2150.000 |  1405.000 | 6022.000 | 7028.000 | 6272.000 | failed | 0 |\n",
       "|   56.978 |   48.433 |   3.002 |   25.528 |  18.105 |   14.652 |   17.878 |  417.5308 |  103.194 |   104.291 |    3.000 |   22.526 |   54.761 |    5.011 |   -24.644 |  103.194 |    8.011 |   77.666 | failed | 0 |\n",
       "| 1965.000 | 5846.000 | 401.000 |  897.000 | 677.000 |   65.000 |  540.000 | 3764.3000 | 7483.000 | 10805.000 | 4918.000 |  496.000 | 1637.000 | 1375.000 | -1605.000 | 7483.000 | 8485.000 | 6586.000 | failed | 0 |\n",
       "|   40.839 |   70.700 |   1.173 |    4.977 |  18.414 |    1.211 |   17.128 |   33.5204 |   91.658 |    65.591 |    0.000 |    3.804 |   20.958 |   33.081 |   -13.369 |   91.658 |   33.167 |   86.681 | failed | 0 |\n",
       "\n"
      ],
      "text/plain": [
       "  X1       X2       X3      X4       X5      X6       X7       X8       \n",
       "1   69.263    7.549   1.701  -33.247   0.395  -35.778    0.953   55.9810\n",
       "2   34.674   53.724  63.072  143.240   0.000   29.894   28.650  463.1054\n",
       "3 2703.000 4839.000 284.000 -250.000 607.000 -764.000 1103.000  176.2613\n",
       "4   56.978   48.433   3.002   25.528  18.105   14.652   17.878  417.5308\n",
       "5 1965.000 5846.000 401.000  897.000 677.000   65.000  540.000 3764.3000\n",
       "6   40.839   70.700   1.173    4.977  18.414    1.211   17.128   33.5204\n",
       "  X9       X10       X11      X12      X13      X14      X15       X16     \n",
       "1    8.754    90.180   90.000  -34.948    1.205    8.132   -92.036    8.754\n",
       "2  211.061   861.055  340.255   80.168  157.337   69.773    69.804  211.061\n",
       "3 6022.000  4678.000 1363.000 -534.000 1183.000 2150.000  1405.000 6022.000\n",
       "4  103.194   104.291    3.000   22.526   54.761    5.011   -24.644  103.194\n",
       "5 7483.000 10805.000 4918.000  496.000 1637.000 1375.000 -1605.000 7483.000\n",
       "6   91.658    65.591    0.000    3.804   20.958   33.081   -13.369   91.658\n",
       "  X17      X18      status_label status_label_num\n",
       "1   98.277   42.001 failed       0               \n",
       "2  463.664   67.821 failed       0               \n",
       "3 7028.000 6272.000 failed       0               \n",
       "4    8.011   77.666 failed       0               \n",
       "5 8485.000 6586.000 failed       0               \n",
       "6   33.167   86.681 failed       0               "
      ]
     },
     "metadata": {},
     "output_type": "display_data"
    },
    {
     "name": "stdout",
     "output_type": "stream",
     "text": [
      "\n",
      "table 4:"
     ]
    },
    {
     "data": {
      "text/html": [
       "<table class=\"dataframe\">\n",
       "<caption>A tibble: 6 × 20</caption>\n",
       "<thead>\n",
       "\t<tr><th scope=col>X1</th><th scope=col>X2</th><th scope=col>X3</th><th scope=col>X4</th><th scope=col>X5</th><th scope=col>X6</th><th scope=col>X7</th><th scope=col>X8</th><th scope=col>X9</th><th scope=col>X10</th><th scope=col>X11</th><th scope=col>X12</th><th scope=col>X13</th><th scope=col>X14</th><th scope=col>X15</th><th scope=col>X16</th><th scope=col>X17</th><th scope=col>X18</th><th scope=col>status_label</th><th scope=col>status_label_num</th></tr>\n",
       "\t<tr><th scope=col>&lt;dbl&gt;</th><th scope=col>&lt;dbl&gt;</th><th scope=col>&lt;dbl&gt;</th><th scope=col>&lt;dbl&gt;</th><th scope=col>&lt;dbl&gt;</th><th scope=col>&lt;dbl&gt;</th><th scope=col>&lt;dbl&gt;</th><th scope=col>&lt;dbl&gt;</th><th scope=col>&lt;dbl&gt;</th><th scope=col>&lt;dbl&gt;</th><th scope=col>&lt;dbl&gt;</th><th scope=col>&lt;dbl&gt;</th><th scope=col>&lt;dbl&gt;</th><th scope=col>&lt;dbl&gt;</th><th scope=col>&lt;dbl&gt;</th><th scope=col>&lt;dbl&gt;</th><th scope=col>&lt;dbl&gt;</th><th scope=col>&lt;dbl&gt;</th><th scope=col>&lt;chr&gt;</th><th scope=col>&lt;dbl&gt;</th></tr>\n",
       "</thead>\n",
       "<tbody>\n",
       "\t<tr><td>10566.000</td><td>31288.000</td><td>1200.000</td><td>6545.000</td><td>4515.000</td><td>4688.000</td><td>4434.000</td><td>31242.9625</td><td>39004.000</td><td>28278.000</td><td>8497.000</td><td>5345.000</td><td>7716.000</td><td>5513.000</td><td> 5400.000</td><td>39004.000</td><td>17882.000</td><td>32459.000</td><td>alive</td><td>1</td></tr>\n",
       "\t<tr><td> 2270.500</td><td> 1216.700</td><td> 250.900</td><td> 524.000</td><td> 517.500</td><td>-308.600</td><td>1148.000</td><td> 2944.0231</td><td> 2542.300</td><td>10190.200</td><td>5173.600</td><td> 273.100</td><td>1325.600</td><td>1062.400</td><td>-1418.800</td><td> 2542.300</td><td> 7271.000</td><td> 2018.300</td><td>alive</td><td>1</td></tr>\n",
       "\t<tr><td> 2340.600</td><td> 1833.200</td><td> 354.200</td><td> 758.100</td><td> 490.400</td><td>-296.200</td><td>1156.000</td><td> 2850.9981</td><td> 3775.900</td><td>10252.400</td><td>5440.600</td><td> 403.900</td><td>1942.700</td><td>1091.800</td><td>-1291.700</td><td> 3775.900</td><td> 7392.400</td><td> 3017.800</td><td>alive</td><td>1</td></tr>\n",
       "\t<tr><td>  973.800</td><td> 1185.500</td><td>  44.000</td><td> 439.300</td><td> 360.600</td><td> 175.200</td><td> 259.900</td><td> 5314.7873</td><td> 2118.300</td><td> 2015.900</td><td>1215.000</td><td> 395.300</td><td> 932.800</td><td> 531.300</td><td>   -5.800</td><td> 2118.300</td><td> 1997.400</td><td> 1679.000</td><td>alive</td><td>1</td></tr>\n",
       "\t<tr><td>  233.211</td><td>   43.338</td><td>  14.094</td><td>  45.615</td><td>   3.376</td><td>  25.261</td><td>  22.846</td><td>  756.4827</td><td>  104.223</td><td> 1099.101</td><td> 184.666</td><td>  31.521</td><td>  60.885</td><td>  28.197</td><td>   28.095</td><td>  104.223</td><td>  225.887</td><td>   58.608</td><td>alive</td><td>1</td></tr>\n",
       "\t<tr><td>  135.207</td><td>   66.527</td><td>  65.330</td><td>  69.171</td><td>   2.013</td><td> -20.401</td><td>  27.217</td><td>  412.6241</td><td>  161.884</td><td> 1736.110</td><td> 694.035</td><td>   3.841</td><td>  95.357</td><td>  82.010</td><td>  135.941</td><td>  161.884</td><td>  776.697</td><td>   92.713</td><td>alive</td><td>1</td></tr>\n",
       "</tbody>\n",
       "</table>\n"
      ],
      "text/latex": [
       "A tibble: 6 × 20\n",
       "\\begin{tabular}{llllllllllllllllllll}\n",
       " X1 & X2 & X3 & X4 & X5 & X6 & X7 & X8 & X9 & X10 & X11 & X12 & X13 & X14 & X15 & X16 & X17 & X18 & status\\_label & status\\_label\\_num\\\\\n",
       " <dbl> & <dbl> & <dbl> & <dbl> & <dbl> & <dbl> & <dbl> & <dbl> & <dbl> & <dbl> & <dbl> & <dbl> & <dbl> & <dbl> & <dbl> & <dbl> & <dbl> & <dbl> & <chr> & <dbl>\\\\\n",
       "\\hline\n",
       "\t 10566.000 & 31288.000 & 1200.000 & 6545.000 & 4515.000 & 4688.000 & 4434.000 & 31242.9625 & 39004.000 & 28278.000 & 8497.000 & 5345.000 & 7716.000 & 5513.000 &  5400.000 & 39004.000 & 17882.000 & 32459.000 & alive & 1\\\\\n",
       "\t  2270.500 &  1216.700 &  250.900 &  524.000 &  517.500 & -308.600 & 1148.000 &  2944.0231 &  2542.300 & 10190.200 & 5173.600 &  273.100 & 1325.600 & 1062.400 & -1418.800 &  2542.300 &  7271.000 &  2018.300 & alive & 1\\\\\n",
       "\t  2340.600 &  1833.200 &  354.200 &  758.100 &  490.400 & -296.200 & 1156.000 &  2850.9981 &  3775.900 & 10252.400 & 5440.600 &  403.900 & 1942.700 & 1091.800 & -1291.700 &  3775.900 &  7392.400 &  3017.800 & alive & 1\\\\\n",
       "\t   973.800 &  1185.500 &   44.000 &  439.300 &  360.600 &  175.200 &  259.900 &  5314.7873 &  2118.300 &  2015.900 & 1215.000 &  395.300 &  932.800 &  531.300 &    -5.800 &  2118.300 &  1997.400 &  1679.000 & alive & 1\\\\\n",
       "\t   233.211 &    43.338 &   14.094 &   45.615 &    3.376 &   25.261 &   22.846 &   756.4827 &   104.223 &  1099.101 &  184.666 &   31.521 &   60.885 &   28.197 &    28.095 &   104.223 &   225.887 &    58.608 & alive & 1\\\\\n",
       "\t   135.207 &    66.527 &   65.330 &   69.171 &    2.013 &  -20.401 &   27.217 &   412.6241 &   161.884 &  1736.110 &  694.035 &    3.841 &   95.357 &   82.010 &   135.941 &   161.884 &   776.697 &    92.713 & alive & 1\\\\\n",
       "\\end{tabular}\n"
      ],
      "text/markdown": [
       "\n",
       "A tibble: 6 × 20\n",
       "\n",
       "| X1 &lt;dbl&gt; | X2 &lt;dbl&gt; | X3 &lt;dbl&gt; | X4 &lt;dbl&gt; | X5 &lt;dbl&gt; | X6 &lt;dbl&gt; | X7 &lt;dbl&gt; | X8 &lt;dbl&gt; | X9 &lt;dbl&gt; | X10 &lt;dbl&gt; | X11 &lt;dbl&gt; | X12 &lt;dbl&gt; | X13 &lt;dbl&gt; | X14 &lt;dbl&gt; | X15 &lt;dbl&gt; | X16 &lt;dbl&gt; | X17 &lt;dbl&gt; | X18 &lt;dbl&gt; | status_label &lt;chr&gt; | status_label_num &lt;dbl&gt; |\n",
       "|---|---|---|---|---|---|---|---|---|---|---|---|---|---|---|---|---|---|---|---|\n",
       "| 10566.000 | 31288.000 | 1200.000 | 6545.000 | 4515.000 | 4688.000 | 4434.000 | 31242.9625 | 39004.000 | 28278.000 | 8497.000 | 5345.000 | 7716.000 | 5513.000 |  5400.000 | 39004.000 | 17882.000 | 32459.000 | alive | 1 |\n",
       "|  2270.500 |  1216.700 |  250.900 |  524.000 |  517.500 | -308.600 | 1148.000 |  2944.0231 |  2542.300 | 10190.200 | 5173.600 |  273.100 | 1325.600 | 1062.400 | -1418.800 |  2542.300 |  7271.000 |  2018.300 | alive | 1 |\n",
       "|  2340.600 |  1833.200 |  354.200 |  758.100 |  490.400 | -296.200 | 1156.000 |  2850.9981 |  3775.900 | 10252.400 | 5440.600 |  403.900 | 1942.700 | 1091.800 | -1291.700 |  3775.900 |  7392.400 |  3017.800 | alive | 1 |\n",
       "|   973.800 |  1185.500 |   44.000 |  439.300 |  360.600 |  175.200 |  259.900 |  5314.7873 |  2118.300 |  2015.900 | 1215.000 |  395.300 |  932.800 |  531.300 |    -5.800 |  2118.300 |  1997.400 |  1679.000 | alive | 1 |\n",
       "|   233.211 |    43.338 |   14.094 |   45.615 |    3.376 |   25.261 |   22.846 |   756.4827 |   104.223 |  1099.101 |  184.666 |   31.521 |   60.885 |   28.197 |    28.095 |   104.223 |   225.887 |    58.608 | alive | 1 |\n",
       "|   135.207 |    66.527 |   65.330 |   69.171 |    2.013 |  -20.401 |   27.217 |   412.6241 |   161.884 |  1736.110 |  694.035 |    3.841 |   95.357 |   82.010 |   135.941 |   161.884 |   776.697 |    92.713 | alive | 1 |\n",
       "\n"
      ],
      "text/plain": [
       "  X1        X2        X3       X4       X5       X6       X7       X8        \n",
       "1 10566.000 31288.000 1200.000 6545.000 4515.000 4688.000 4434.000 31242.9625\n",
       "2  2270.500  1216.700  250.900  524.000  517.500 -308.600 1148.000  2944.0231\n",
       "3  2340.600  1833.200  354.200  758.100  490.400 -296.200 1156.000  2850.9981\n",
       "4   973.800  1185.500   44.000  439.300  360.600  175.200  259.900  5314.7873\n",
       "5   233.211    43.338   14.094   45.615    3.376   25.261   22.846   756.4827\n",
       "6   135.207    66.527   65.330   69.171    2.013  -20.401   27.217   412.6241\n",
       "  X9        X10       X11      X12      X13      X14      X15       X16      \n",
       "1 39004.000 28278.000 8497.000 5345.000 7716.000 5513.000  5400.000 39004.000\n",
       "2  2542.300 10190.200 5173.600  273.100 1325.600 1062.400 -1418.800  2542.300\n",
       "3  3775.900 10252.400 5440.600  403.900 1942.700 1091.800 -1291.700  3775.900\n",
       "4  2118.300  2015.900 1215.000  395.300  932.800  531.300    -5.800  2118.300\n",
       "5   104.223  1099.101  184.666   31.521   60.885   28.197    28.095   104.223\n",
       "6   161.884  1736.110  694.035    3.841   95.357   82.010   135.941   161.884\n",
       "  X17       X18       status_label status_label_num\n",
       "1 17882.000 32459.000 alive        1               \n",
       "2  7271.000  2018.300 alive        1               \n",
       "3  7392.400  3017.800 alive        1               \n",
       "4  1997.400  1679.000 alive        1               \n",
       "5   225.887    58.608 alive        1               \n",
       "6   776.697    92.713 alive        1               "
      ]
     },
     "metadata": {},
     "output_type": "display_data"
    }
   ],
   "source": [
    "set.seed(1000)\n",
    "\n",
    "data_no_label <- bank_train |>\n",
    "    select(X1:X18)\n",
    "data_label_only <- bank_train |>\n",
    "    select(status_label)\n",
    "\n",
    "data_smote <- SMOTE(data_no_label, data_label_only, 5, dup_size = 10)$data\n",
    "\n",
    "data_smote <- data_smote |>\n",
    "    rename(status_label = class) |>\n",
    "    mutate(status_label_num = ifelse(status_label == \"alive\", 1, 0)) # 1: alive, 0: failed\n",
    "\n",
    "cat(\"\\ntable 3:\")\n",
    "head(data_smote)\n",
    "cat(\"\\ntable 4:\")\n",
    "tail(data_smote)"
   ]
  },
  {
   "cell_type": "code",
   "execution_count": 36,
   "id": "6f585915-9d20-42a5-afb3-0b6d609b2215",
   "metadata": {
    "vscode": {
     "languageId": "r"
    }
   },
   "outputs": [
    {
     "data": {
      "image/png": "[encoded data removed]",
      "text/plain": [
       "Plot with title \"Distribution of Company Statuses in Training Set (figure 4)\""
      ]
     },
     "metadata": {
      "image/png": {
       "height": 540,
       "width": 600
      }
     },
     "output_type": "display_data"
    }
   ],
   "source": [
    "alive <- filter(data_smote, status_label == \"alive\")\n",
    "total_number <- nrow(data_smote)\n",
    "alive_number <- nrow(alive)\n",
    "failed_number <- total_number - alive_number\n",
    "\n",
    "pie_data <- c(alive_number, failed_number)\n",
    "pie_labels <- c(\"Alive\", \"Failed\")\n",
    "status_label <- c(\"Alive\", \"Failed\")\n",
    "slice_colors <- c(\"red\", \"blue\")\n",
    "\n",
    "pie(pie_data, labels = percent(pie_data / sum(pie_data)), col = slice_colors, main = \"Distribution of Company Statuses in Training Set (figure 4)\")\n",
    "\n",
    "legend(\"topright\",\n",
    "    legend = status_label,\n",
    "    fill = slice_colors,\n",
    "    title = \"Company Status\")"
   ]
  },
  {
   "cell_type": "markdown",
   "id": "d2953ca7-4e73-4e7a-8b2e-35ea0c8aa15e",
   "metadata": {},
   "source": [
    "After oversample the data, we install and load the ***randomForest*** library, build the *randomForest* model:"
   ]
  },
  {
   "cell_type": "code",
   "execution_count": 37,
   "id": "4b5dd36d-3850-4f20-9972-37451f233a80",
   "metadata": {
    "vscode": {
     "languageId": "r"
    }
   },
   "outputs": [],
   "source": [
    "# install.packages(\"randomForest\")\n",
    "library(randomForest)\n",
    "\n",
    "rf_model <- randomForest(as_factor(status_label_num) ~ . - status_label, data = data_smote, ntree = 500, mtry = sqrt(ncol(data_smote)-2))"
   ]
  },
  {
   "cell_type": "markdown",
   "id": "98097c36-f9eb-45c8-a597-cbc595206fd3",
   "metadata": {},
   "source": [
    "Then apply the *RandomForest* model to the smoted data and get the importance for each variables:"
   ]
  },
  {
   "cell_type": "code",
   "execution_count": 38,
   "id": "1359d6ba-22cc-4e7d-bceb-31108954135d",
   "metadata": {
    "vscode": {
     "languageId": "r"
    }
   },
   "outputs": [
    {
     "name": "stdout",
     "output_type": "stream",
     "text": [
      "\n",
      "table 5:"
     ]
    },
    {
     "data": {
      "text/html": [
       "<table class=\"dataframe\">\n",
       "<caption>A data.frame: 10 × 1</caption>\n",
       "<thead>\n",
       "\t<tr><th></th><th scope=col>MeanDecreaseGini</th></tr>\n",
       "\t<tr><th></th><th scope=col>&lt;dbl&gt;</th></tr>\n",
       "</thead>\n",
       "<tbody>\n",
       "\t<tr><th scope=row>X11</th><td>2711.548</td></tr>\n",
       "\t<tr><th scope=row>X8</th><td>2506.845</td></tr>\n",
       "\t<tr><th scope=row>X5</th><td>2288.952</td></tr>\n",
       "\t<tr><th scope=row>X15</th><td>2220.951</td></tr>\n",
       "\t<tr><th scope=row>X6</th><td>2174.314</td></tr>\n",
       "\t<tr><th scope=row>X3</th><td>1884.540</td></tr>\n",
       "\t<tr><th scope=row>X2</th><td>1688.331</td></tr>\n",
       "\t<tr><th scope=row>X1</th><td>1677.201</td></tr>\n",
       "\t<tr><th scope=row>X17</th><td>1673.931</td></tr>\n",
       "\t<tr><th scope=row>X13</th><td>1662.242</td></tr>\n",
       "</tbody>\n",
       "</table>\n"
      ],
      "text/latex": [
       "A data.frame: 10 × 1\n",
       "\\begin{tabular}{r|l}\n",
       "  & MeanDecreaseGini\\\\\n",
       "  & <dbl>\\\\\n",
       "\\hline\n",
       "\tX11 & 2711.548\\\\\n",
       "\tX8 & 2506.845\\\\\n",
       "\tX5 & 2288.952\\\\\n",
       "\tX15 & 2220.951\\\\\n",
       "\tX6 & 2174.314\\\\\n",
       "\tX3 & 1884.540\\\\\n",
       "\tX2 & 1688.331\\\\\n",
       "\tX1 & 1677.201\\\\\n",
       "\tX17 & 1673.931\\\\\n",
       "\tX13 & 1662.242\\\\\n",
       "\\end{tabular}\n"
      ],
      "text/markdown": [
       "\n",
       "A data.frame: 10 × 1\n",
       "\n",
       "| <!--/--> | MeanDecreaseGini &lt;dbl&gt; |\n",
       "|---|---|\n",
       "| X11 | 2711.548 |\n",
       "| X8 | 2506.845 |\n",
       "| X5 | 2288.952 |\n",
       "| X15 | 2220.951 |\n",
       "| X6 | 2174.314 |\n",
       "| X3 | 1884.540 |\n",
       "| X2 | 1688.331 |\n",
       "| X1 | 1677.201 |\n",
       "| X17 | 1673.931 |\n",
       "| X13 | 1662.242 |\n",
       "\n"
      ],
      "text/plain": [
       "    MeanDecreaseGini\n",
       "X11 2711.548        \n",
       "X8  2506.845        \n",
       "X5  2288.952        \n",
       "X15 2220.951        \n",
       "X6  2174.314        \n",
       "X3  1884.540        \n",
       "X2  1688.331        \n",
       "X1  1677.201        \n",
       "X17 1673.931        \n",
       "X13 1662.242        "
      ]
     },
     "metadata": {},
     "output_type": "display_data"
    },
    {
     "name": "stdout",
     "output_type": "stream",
     "text": [
      "\n",
      "Call:\n",
      " randomForest(formula = as_factor(status_label_num) ~ . - status_label,      data = data_smote, ntree = 500, mtry = sqrt(ncol(data_smote) -          2)) \n",
      "               Type of random forest: classification\n",
      "                     Number of trees: 500\n",
      "No. of variables tried at each split: 4\n",
      "\n",
      "        OOB estimate of  error rate: 4.56%\n",
      "Confusion matrix:\n",
      "      0     1 class.error\n",
      "0 27404  1284  0.04475739\n",
      "1  1698 35035  0.04622546\n"
     ]
    }
   ],
   "source": [
    "importance_matrix <- importance(rf_model)\n",
    "\n",
    "importance_df <- as.data.frame(importance_matrix)\n",
    "\n",
    "sorted_importance_df <- importance_df |>\n",
    "    arrange(-MeanDecreaseGini)\n",
    "\n",
    "cat(\"\\ntable 5:\")\n",
    "slice_head(sorted_importance_df, n = 10)\n",
    "print(rf_model)"
   ]
  },
  {
   "cell_type": "markdown",
   "id": "e9e455ea-1e65-42ce-9e1f-abf957cc9d36",
   "metadata": {},
   "source": [
    "According to the observation we have in Correlation Matrix, we will only consider one or two from *X2*, *X9*, *X13*, *X16*, *X18*; one or two from *X3*, *X4*, *X12*, *X14*; one or two from *X10*, *X11*, *X17 since they're highly correlated to each other, and the top 10 MeanDecreaseGini generated by *RandomForest*, the predictors we will choose are as follow:  \n",
    "- *X1 (Current assets)*,\n",
    "- *X3 (Depreciation and amortization)*,\n",
    "- *X5 (Inventory)*,\n",
    "- *X6 (Net Income)*\n",
    "- *X7 (Total Receivables)*,\n",
    "- *X8 (Market Value)*,\n",
    "- *X11 (Total Long term debt)*\n",
    "- *X13 (Gross Profit)*,\n",
    "- *X15 (Retained Earnings)*\n",
    "- *X17 (Total Liabilities)*."
   ]
  },
  {
   "cell_type": "markdown",
   "id": "f4f273f2-dd18-4fa1-ad63-a2c770d2eed3",
   "metadata": {},
   "source": [
    "### Visialization and Results"
   ]
  },
  {
   "cell_type": "markdown",
   "id": "8dd2b363-9f89-439c-9a15-417e34555035",
   "metadata": {},
   "source": [
    "We will directly use the *Accuracy*, *Precision* and *Recall* to show how good is our model. Also, we may choose to use a *Receiver Operating Characteristic (ROC) curve* and the *Area Under the Curve (AUC) metric* to visualize our model, since our classification is a binary classification."
   ]
  },
  {
   "cell_type": "markdown",
   "id": "432b8cbc-a428-4074-9970-7c5ef199996b",
   "metadata": {},
   "source": [
    "Here we're going to apply all the three models we have learned in the course: the _K-NN classification_, _K-NN regression_ and _linear regression_."
   ]
  },
  {
   "cell_type": "markdown",
   "id": "992c9aca-b31b-4a18-8850-d0609a5b4653",
   "metadata": {},
   "source": [
    "First is the *K-NN regression*, we create the workflow and choose the best *K* value first."
   ]
  },
  {
   "cell_type": "code",
   "execution_count": 39,
   "id": "af5b4348-27d3-40d8-81d8-68224b3a6776",
   "metadata": {
    "vscode": {
     "languageId": "r"
    }
   },
   "outputs": [
    {
     "data": {
      "text/plain": [
       "══ Workflow ════════════════════════════════════════════════════════════════════\n",
       "\u001b[3mPreprocessor:\u001b[23m Recipe\n",
       "\u001b[3mModel:\u001b[23m nearest_neighbor()\n",
       "\n",
       "── Preprocessor ────────────────────────────────────────────────────────────────\n",
       "2 Recipe Steps\n",
       "\n",
       "• step_scale()\n",
       "• step_center()\n",
       "\n",
       "── Model ───────────────────────────────────────────────────────────────────────\n",
       "K-Nearest Neighbor Model Specification (regression)\n",
       "\n",
       "Main Arguments:\n",
       "  neighbors = tune()\n",
       "  weight_func = rectangular\n",
       "\n",
       "Computational engine: kknn \n"
      ]
     },
     "metadata": {},
     "output_type": "display_data"
    }
   ],
   "source": [
    "bank_kreg_recipe <- recipe(status_label_num ~ X1 + X3 + X5 + X6 + X7 + X8 + X11 + X13 + X15 + X17, data = data_smote) |>\n",
    "    step_scale(all_predictors()) |>\n",
    "    step_center(all_predictors())\n",
    "\n",
    "bank_kreg_spec <- nearest_neighbor(weight_func = \"rectangular\", neighbors = tune()) |>\n",
    "    set_engine(\"kknn\") |>\n",
    "    set_mode(\"regression\")\n",
    "\n",
    "bank_kreg_vfold <- vfold_cv(data_smote, v = 5, strata = status_label_num)\n",
    "\n",
    "bank_wkflw <- workflow() |>\n",
    "    add_recipe(bank_kreg_recipe) |>\n",
    "    add_model(bank_kreg_spec)\n",
    "\n",
    "bank_wkflw"
   ]
  },
  {
   "cell_type": "code",
   "execution_count": 40,
   "id": "a6a82131",
   "metadata": {
    "vscode": {
     "languageId": "r"
    }
   },
   "outputs": [
    {
     "name": "stdout",
     "output_type": "stream",
     "text": [
      "\n",
      "table 6:"
     ]
    },
    {
     "data": {
      "text/html": [
       "<table class=\"dataframe\">\n",
       "<caption>A tibble: 10 × 7</caption>\n",
       "<thead>\n",
       "\t<tr><th scope=col>neighbors</th><th scope=col>.metric</th><th scope=col>.estimator</th><th scope=col>mean</th><th scope=col>n</th><th scope=col>std_err</th><th scope=col>.config</th></tr>\n",
       "\t<tr><th scope=col>&lt;dbl&gt;</th><th scope=col>&lt;chr&gt;</th><th scope=col>&lt;chr&gt;</th><th scope=col>&lt;dbl&gt;</th><th scope=col>&lt;int&gt;</th><th scope=col>&lt;dbl&gt;</th><th scope=col>&lt;chr&gt;</th></tr>\n",
       "</thead>\n",
       "<tbody>\n",
       "\t<tr><td> 1</td><td>rmse</td><td>standard</td><td>0.2823024</td><td>5</td><td>0.001066379</td><td>Preprocessor1_Model01</td></tr>\n",
       "\t<tr><td> 2</td><td>rmse</td><td>standard</td><td>0.2790805</td><td>5</td><td>0.000692879</td><td>Preprocessor1_Model02</td></tr>\n",
       "\t<tr><td> 3</td><td>rmse</td><td>standard</td><td>0.2852039</td><td>5</td><td>0.001165123</td><td>Preprocessor1_Model03</td></tr>\n",
       "\t<tr><td> 4</td><td>rmse</td><td>standard</td><td>0.2924308</td><td>5</td><td>0.001596168</td><td>Preprocessor1_Model04</td></tr>\n",
       "\t<tr><td> 5</td><td>rmse</td><td>standard</td><td>0.2987160</td><td>5</td><td>0.001847808</td><td>Preprocessor1_Model05</td></tr>\n",
       "\t<tr><td> 6</td><td>rmse</td><td>standard</td><td>0.3044802</td><td>5</td><td>0.001900713</td><td>Preprocessor1_Model06</td></tr>\n",
       "\t<tr><td> 7</td><td>rmse</td><td>standard</td><td>0.3097315</td><td>5</td><td>0.001894784</td><td>Preprocessor1_Model07</td></tr>\n",
       "\t<tr><td> 8</td><td>rmse</td><td>standard</td><td>0.3148747</td><td>5</td><td>0.001788014</td><td>Preprocessor1_Model08</td></tr>\n",
       "\t<tr><td> 9</td><td>rmse</td><td>standard</td><td>0.3196057</td><td>5</td><td>0.001535685</td><td>Preprocessor1_Model09</td></tr>\n",
       "\t<tr><td>10</td><td>rmse</td><td>standard</td><td>0.3239959</td><td>5</td><td>0.001291515</td><td>Preprocessor1_Model10</td></tr>\n",
       "</tbody>\n",
       "</table>\n"
      ],
      "text/latex": [
       "A tibble: 10 × 7\n",
       "\\begin{tabular}{lllllll}\n",
       " neighbors & .metric & .estimator & mean & n & std\\_err & .config\\\\\n",
       " <dbl> & <chr> & <chr> & <dbl> & <int> & <dbl> & <chr>\\\\\n",
       "\\hline\n",
       "\t  1 & rmse & standard & 0.2823024 & 5 & 0.001066379 & Preprocessor1\\_Model01\\\\\n",
       "\t  2 & rmse & standard & 0.2790805 & 5 & 0.000692879 & Preprocessor1\\_Model02\\\\\n",
       "\t  3 & rmse & standard & 0.2852039 & 5 & 0.001165123 & Preprocessor1\\_Model03\\\\\n",
       "\t  4 & rmse & standard & 0.2924308 & 5 & 0.001596168 & Preprocessor1\\_Model04\\\\\n",
       "\t  5 & rmse & standard & 0.2987160 & 5 & 0.001847808 & Preprocessor1\\_Model05\\\\\n",
       "\t  6 & rmse & standard & 0.3044802 & 5 & 0.001900713 & Preprocessor1\\_Model06\\\\\n",
       "\t  7 & rmse & standard & 0.3097315 & 5 & 0.001894784 & Preprocessor1\\_Model07\\\\\n",
       "\t  8 & rmse & standard & 0.3148747 & 5 & 0.001788014 & Preprocessor1\\_Model08\\\\\n",
       "\t  9 & rmse & standard & 0.3196057 & 5 & 0.001535685 & Preprocessor1\\_Model09\\\\\n",
       "\t 10 & rmse & standard & 0.3239959 & 5 & 0.001291515 & Preprocessor1\\_Model10\\\\\n",
       "\\end{tabular}\n"
      ],
      "text/markdown": [
       "\n",
       "A tibble: 10 × 7\n",
       "\n",
       "| neighbors &lt;dbl&gt; | .metric &lt;chr&gt; | .estimator &lt;chr&gt; | mean &lt;dbl&gt; | n &lt;int&gt; | std_err &lt;dbl&gt; | .config &lt;chr&gt; |\n",
       "|---|---|---|---|---|---|---|\n",
       "|  1 | rmse | standard | 0.2823024 | 5 | 0.001066379 | Preprocessor1_Model01 |\n",
       "|  2 | rmse | standard | 0.2790805 | 5 | 0.000692879 | Preprocessor1_Model02 |\n",
       "|  3 | rmse | standard | 0.2852039 | 5 | 0.001165123 | Preprocessor1_Model03 |\n",
       "|  4 | rmse | standard | 0.2924308 | 5 | 0.001596168 | Preprocessor1_Model04 |\n",
       "|  5 | rmse | standard | 0.2987160 | 5 | 0.001847808 | Preprocessor1_Model05 |\n",
       "|  6 | rmse | standard | 0.3044802 | 5 | 0.001900713 | Preprocessor1_Model06 |\n",
       "|  7 | rmse | standard | 0.3097315 | 5 | 0.001894784 | Preprocessor1_Model07 |\n",
       "|  8 | rmse | standard | 0.3148747 | 5 | 0.001788014 | Preprocessor1_Model08 |\n",
       "|  9 | rmse | standard | 0.3196057 | 5 | 0.001535685 | Preprocessor1_Model09 |\n",
       "| 10 | rmse | standard | 0.3239959 | 5 | 0.001291515 | Preprocessor1_Model10 |\n",
       "\n"
      ],
      "text/plain": [
       "   neighbors .metric .estimator mean      n std_err     .config              \n",
       "1   1        rmse    standard   0.2823024 5 0.001066379 Preprocessor1_Model01\n",
       "2   2        rmse    standard   0.2790805 5 0.000692879 Preprocessor1_Model02\n",
       "3   3        rmse    standard   0.2852039 5 0.001165123 Preprocessor1_Model03\n",
       "4   4        rmse    standard   0.2924308 5 0.001596168 Preprocessor1_Model04\n",
       "5   5        rmse    standard   0.2987160 5 0.001847808 Preprocessor1_Model05\n",
       "6   6        rmse    standard   0.3044802 5 0.001900713 Preprocessor1_Model06\n",
       "7   7        rmse    standard   0.3097315 5 0.001894784 Preprocessor1_Model07\n",
       "8   8        rmse    standard   0.3148747 5 0.001788014 Preprocessor1_Model08\n",
       "9   9        rmse    standard   0.3196057 5 0.001535685 Preprocessor1_Model09\n",
       "10 10        rmse    standard   0.3239959 5 0.001291515 Preprocessor1_Model10"
      ]
     },
     "metadata": {},
     "output_type": "display_data"
    },
    {
     "name": "stdout",
     "output_type": "stream",
     "text": [
      "\n",
      "figure 5:"
     ]
    },
    {
     "data": {
      "text/html": [
       "2"
      ],
      "text/latex": [
       "2"
      ],
      "text/markdown": [
       "2"
      ],
      "text/plain": [
       "[1] 2"
      ]
     },
     "metadata": {},
     "output_type": "display_data"
    },
    {
     "data": {
      "image/png": "[encoded data removed]",
      "text/plain": [
       "plot without title"
      ]
     },
     "metadata": {
      "image/png": {
       "height": 540,
       "width": 600
      }
     },
     "output_type": "display_data"
    }
   ],
   "source": [
    "kreg_gridvals <- tibble(neighbors = seq(from = 1, to = 10, by = 1))\n",
    "\n",
    "bank_reg_results <- bank_wkflw |>\n",
    "    tune_grid(resamples = bank_kreg_vfold, grid = kreg_gridvals) |>\n",
    "    collect_metrics() |>\n",
    "    filter(.metric == \"rmse\")\n",
    "\n",
    "cat(\"\\ntable 6:\")\n",
    "bank_reg_results\n",
    "\n",
    "rmse_vs_k <- ggplot(bank_reg_results, aes(x = neighbors, y = mean)) +\n",
    "    geom_point() +\n",
    "    geom_line() +\n",
    "    scale_x_continuous(breaks = seq(0, 10, by = 1)) +\n",
    "    labs(x = \"Neighbors\", y = \"RMSE\")\n",
    "\n",
    "cat(\"\\nfigure 5:\")\n",
    "rmse_vs_k\n",
    "\n",
    "k_min <- bank_reg_results |>\n",
    "    slice_min(mean, n = 1) |>\n",
    "    pull(neighbors)\n",
    "\n",
    "k_min"
   ]
  },
  {
   "cell_type": "markdown",
   "id": "46ff8957-aaf9-49d9-a2db-01d3f1d8d4e3",
   "metadata": {},
   "source": [
    "Then we perform the model on the test dataset."
   ]
  },
  {
   "cell_type": "code",
   "execution_count": 41,
   "id": "6e67c0db-4933-4764-b91d-988ca37e692d",
   "metadata": {
    "vscode": {
     "languageId": "r"
    }
   },
   "outputs": [],
   "source": [
    "bank_kreg_spec_best <- nearest_neighbor(weight_func = \"rectangular\", neighbors = k_min) |>\n",
    "    set_engine(\"kknn\") |>\n",
    "    set_mode(\"regression\")\n",
    "\n",
    "bank_kreg_fit_best<- workflow() |>\n",
    "    add_recipe(bank_kreg_recipe) |>\n",
    "    add_model(bank_kreg_spec_best) |>\n",
    "    fit(data = data_smote)\n",
    "\n",
    "kreg_predictions <- bank_kreg_fit_best |>\n",
    "    predict(bank_test) |>\n",
    "    bind_cols(bank_test) |>\n",
    "    mutate(predicted_class = ifelse(.pred > 0.5, 1, 0)) |>\n",
    "    mutate(predicted_class = as_factor(predicted_class), \n",
    "           status_label_num = as_factor(status_label_num))"
   ]
  },
  {
   "cell_type": "markdown",
   "id": "8e867314-c841-4659-874a-f04b2ffd2400",
   "metadata": {},
   "source": [
    "And finally we check the the pereformance of this model."
   ]
  },
  {
   "cell_type": "code",
   "execution_count": 42,
   "id": "c097542b-15e9-4247-9ec3-6824023f16ad",
   "metadata": {
    "vscode": {
     "languageId": "r"
    }
   },
   "outputs": [
    {
     "name": "stdout",
     "output_type": "stream",
     "text": [
      "\n",
      "table 7:"
     ]
    },
    {
     "data": {
      "text/html": [
       "<table class=\"dataframe\">\n",
       "<caption>A tibble: 3 × 3</caption>\n",
       "<thead>\n",
       "\t<tr><th scope=col>.metric</th><th scope=col>.estimator</th><th scope=col>.estimate</th></tr>\n",
       "\t<tr><th scope=col>&lt;chr&gt;</th><th scope=col>&lt;chr&gt;</th><th scope=col>&lt;dbl&gt;</th></tr>\n",
       "</thead>\n",
       "<tbody>\n",
       "\t<tr><td>rmse</td><td>standard</td><td>0.3601202</td></tr>\n",
       "\t<tr><td>rsq </td><td>standard</td><td>0.1104639</td></tr>\n",
       "\t<tr><td>mae </td><td>standard</td><td>0.1614855</td></tr>\n",
       "</tbody>\n",
       "</table>\n"
      ],
      "text/latex": [
       "A tibble: 3 × 3\n",
       "\\begin{tabular}{lll}\n",
       " .metric & .estimator & .estimate\\\\\n",
       " <chr> & <chr> & <dbl>\\\\\n",
       "\\hline\n",
       "\t rmse & standard & 0.3601202\\\\\n",
       "\t rsq  & standard & 0.1104639\\\\\n",
       "\t mae  & standard & 0.1614855\\\\\n",
       "\\end{tabular}\n"
      ],
      "text/markdown": [
       "\n",
       "A tibble: 3 × 3\n",
       "\n",
       "| .metric &lt;chr&gt; | .estimator &lt;chr&gt; | .estimate &lt;dbl&gt; |\n",
       "|---|---|---|\n",
       "| rmse | standard | 0.3601202 |\n",
       "| rsq  | standard | 0.1104639 |\n",
       "| mae  | standard | 0.1614855 |\n",
       "\n"
      ],
      "text/plain": [
       "  .metric .estimator .estimate\n",
       "1 rmse    standard   0.3601202\n",
       "2 rsq     standard   0.1104639\n",
       "3 mae     standard   0.1614855"
      ]
     },
     "metadata": {},
     "output_type": "display_data"
    },
    {
     "data": {
      "text/html": [
       "<table class=\"dataframe\">\n",
       "<caption>A tibble: 1 × 3</caption>\n",
       "<thead>\n",
       "\t<tr><th scope=col>.metric</th><th scope=col>.estimator</th><th scope=col>.estimate</th></tr>\n",
       "\t<tr><th scope=col>&lt;chr&gt;</th><th scope=col>&lt;chr&gt;</th><th scope=col>&lt;dbl&gt;</th></tr>\n",
       "</thead>\n",
       "<tbody>\n",
       "\t<tr><td>accuracy</td><td>binary</td><td>0.7869144</td></tr>\n",
       "</tbody>\n",
       "</table>\n"
      ],
      "text/latex": [
       "A tibble: 1 × 3\n",
       "\\begin{tabular}{lll}\n",
       " .metric & .estimator & .estimate\\\\\n",
       " <chr> & <chr> & <dbl>\\\\\n",
       "\\hline\n",
       "\t accuracy & binary & 0.7869144\\\\\n",
       "\\end{tabular}\n"
      ],
      "text/markdown": [
       "\n",
       "A tibble: 1 × 3\n",
       "\n",
       "| .metric &lt;chr&gt; | .estimator &lt;chr&gt; | .estimate &lt;dbl&gt; |\n",
       "|---|---|---|\n",
       "| accuracy | binary | 0.7869144 |\n",
       "\n"
      ],
      "text/plain": [
       "  .metric  .estimator .estimate\n",
       "1 accuracy binary     0.7869144"
      ]
     },
     "metadata": {},
     "output_type": "display_data"
    },
    {
     "data": {
      "text/html": [
       "<table class=\"dataframe\">\n",
       "<caption>A tibble: 1 × 3</caption>\n",
       "<thead>\n",
       "\t<tr><th scope=col>.metric</th><th scope=col>.estimator</th><th scope=col>.estimate</th></tr>\n",
       "\t<tr><th scope=col>&lt;chr&gt;</th><th scope=col>&lt;chr&gt;</th><th scope=col>&lt;dbl&gt;</th></tr>\n",
       "</thead>\n",
       "<tbody>\n",
       "\t<tr><td>precision</td><td>binary</td><td>0.1904966</td></tr>\n",
       "</tbody>\n",
       "</table>\n"
      ],
      "text/latex": [
       "A tibble: 1 × 3\n",
       "\\begin{tabular}{lll}\n",
       " .metric & .estimator & .estimate\\\\\n",
       " <chr> & <chr> & <dbl>\\\\\n",
       "\\hline\n",
       "\t precision & binary & 0.1904966\\\\\n",
       "\\end{tabular}\n"
      ],
      "text/markdown": [
       "\n",
       "A tibble: 1 × 3\n",
       "\n",
       "| .metric &lt;chr&gt; | .estimator &lt;chr&gt; | .estimate &lt;dbl&gt; |\n",
       "|---|---|---|\n",
       "| precision | binary | 0.1904966 |\n",
       "\n"
      ],
      "text/plain": [
       "  .metric   .estimator .estimate\n",
       "1 precision binary     0.1904966"
      ]
     },
     "metadata": {},
     "output_type": "display_data"
    },
    {
     "data": {
      "text/html": [
       "<table class=\"dataframe\">\n",
       "<caption>A tibble: 1 × 3</caption>\n",
       "<thead>\n",
       "\t<tr><th scope=col>.metric</th><th scope=col>.estimator</th><th scope=col>.estimate</th></tr>\n",
       "\t<tr><th scope=col>&lt;chr&gt;</th><th scope=col>&lt;chr&gt;</th><th scope=col>&lt;dbl&gt;</th></tr>\n",
       "</thead>\n",
       "<tbody>\n",
       "\t<tr><td>recall</td><td>binary</td><td>0.6799387</td></tr>\n",
       "</tbody>\n",
       "</table>\n"
      ],
      "text/latex": [
       "A tibble: 1 × 3\n",
       "\\begin{tabular}{lll}\n",
       " .metric & .estimator & .estimate\\\\\n",
       " <chr> & <chr> & <dbl>\\\\\n",
       "\\hline\n",
       "\t recall & binary & 0.6799387\\\\\n",
       "\\end{tabular}\n"
      ],
      "text/markdown": [
       "\n",
       "A tibble: 1 × 3\n",
       "\n",
       "| .metric &lt;chr&gt; | .estimator &lt;chr&gt; | .estimate &lt;dbl&gt; |\n",
       "|---|---|---|\n",
       "| recall | binary | 0.6799387 |\n",
       "\n"
      ],
      "text/plain": [
       "  .metric .estimator .estimate\n",
       "1 recall  binary     0.6799387"
      ]
     },
     "metadata": {},
     "output_type": "display_data"
    },
    {
     "data": {
      "text/html": [
       "<table class=\"dataframe\">\n",
       "<caption>A tibble: 1 × 3</caption>\n",
       "<thead>\n",
       "\t<tr><th scope=col>.metric</th><th scope=col>.estimator</th><th scope=col>.estimate</th></tr>\n",
       "\t<tr><th scope=col>&lt;chr&gt;</th><th scope=col>&lt;chr&gt;</th><th scope=col>&lt;dbl&gt;</th></tr>\n",
       "</thead>\n",
       "<tbody>\n",
       "\t<tr><td>roc_auc</td><td>binary</td><td>0.2393861</td></tr>\n",
       "</tbody>\n",
       "</table>\n"
      ],
      "text/latex": [
       "A tibble: 1 × 3\n",
       "\\begin{tabular}{lll}\n",
       " .metric & .estimator & .estimate\\\\\n",
       " <chr> & <chr> & <dbl>\\\\\n",
       "\\hline\n",
       "\t roc\\_auc & binary & 0.2393861\\\\\n",
       "\\end{tabular}\n"
      ],
      "text/markdown": [
       "\n",
       "A tibble: 1 × 3\n",
       "\n",
       "| .metric &lt;chr&gt; | .estimator &lt;chr&gt; | .estimate &lt;dbl&gt; |\n",
       "|---|---|---|\n",
       "| roc_auc | binary | 0.2393861 |\n",
       "\n"
      ],
      "text/plain": [
       "  .metric .estimator .estimate\n",
       "1 roc_auc binary     0.2393861"
      ]
     },
     "metadata": {},
     "output_type": "display_data"
    },
    {
     "name": "stdout",
     "output_type": "stream",
     "text": [
      "\n",
      "figure 6:"
     ]
    },
    {
     "data": {
      "image/png": "[encoded data removed]",
      "text/plain": [
       "plot without title"
      ]
     },
     "metadata": {
      "image/png": {
       "height": 540,
       "width": 600
      }
     },
     "output_type": "display_data"
    }
   ],
   "source": [
    "bank_summary_kreg <- bank_kreg_fit_best |>\n",
    "    predict(bank_test) |>\n",
    "    bind_cols(bank_test) |>\n",
    "    metrics(truth = status_label_num, estimate = .pred)\n",
    "\n",
    "acc_result_kreg <- accuracy(kreg_predictions, truth = status_label_num, estimate = predicted_class)\n",
    "\n",
    "precision_result_kreg <- precision(kreg_predictions, truth = status_label_num, estimate = predicted_class)\n",
    "\n",
    "recall_result_kreg <- recall(kreg_predictions, truth = status_label_num, estimate = predicted_class)\n",
    "\n",
    "auc_result_kreg <- roc_auc(kreg_predictions, truth = status_label_num, .pred)\n",
    "\n",
    "roc_data_kreg <- roc_curve(kreg_predictions, truth = status_label_num, .pred)\n",
    "\n",
    "roc_plot_kreg <- ggplot(roc_data_kreg, aes(x = 1 - specificity, y = sensitivity)) +\n",
    "    geom_line() +\n",
    "    geom_abline(linetype = \"dashed\") +\n",
    "    labs(x = \"False Positive Rate\", y = \"True Positive Rate\", title = \"ROC Curve\")\n",
    "\n",
    "cat(\"\\ntable 7:\")\n",
    "bank_summary_kreg\n",
    "acc_result_kreg\n",
    "precision_result_kreg\n",
    "recall_result_kreg\n",
    "auc_result_kreg\n",
    "cat(\"\\nfigure 6:\")\n",
    "roc_plot_kreg"
   ]
  },
  {
   "cell_type": "markdown",
   "id": "0f646781-eca8-4503-b56f-c90b0f58407f",
   "metadata": {},
   "source": [
    "As we can see from the precision and ROC, this model is not good enough. The main problem could be that regression will not have a good result for a binary classification."
   ]
  },
  {
   "cell_type": "markdown",
   "id": "43e65836-2723-4de0-ab02-09e4afb18c31",
   "metadata": {},
   "source": [
    "Secondly, we build and apply the *linear regression* model to the test dataset."
   ]
  },
  {
   "cell_type": "code",
   "execution_count": 43,
   "id": "2b9c91f3-9985-42f4-af94-686d77f425c9",
   "metadata": {
    "vscode": {
     "languageId": "r"
    }
   },
   "outputs": [
    {
     "data": {
      "text/plain": [
       "══ Workflow [trained] ══════════════════════════════════════════════════════════\n",
       "\u001b[3mPreprocessor:\u001b[23m Recipe\n",
       "\u001b[3mModel:\u001b[23m linear_reg()\n",
       "\n",
       "── Preprocessor ────────────────────────────────────────────────────────────────\n",
       "0 Recipe Steps\n",
       "\n",
       "── Model ───────────────────────────────────────────────────────────────────────\n",
       "\n",
       "Call:\n",
       "stats::lm(formula = ..y ~ ., data = data)\n",
       "\n",
       "Coefficients:\n",
       "(Intercept)           X1           X3           X5           X6           X7  \n",
       "  5.551e-01   -6.720e-06   -8.421e-06    2.895e-05    1.837e-05    4.757e-05  \n",
       "         X8          X11          X13          X15          X17  \n",
       "  3.111e-06    1.059e-05    8.008e-07   -1.030e-07   -1.281e-05  \n"
      ]
     },
     "metadata": {},
     "output_type": "display_data"
    },
    {
     "data": {
      "text/html": [
       "0.492577035506474"
      ],
      "text/latex": [
       "0.492577035506474"
      ],
      "text/markdown": [
       "0.492577035506474"
      ],
      "text/plain": [
       "[1] 0.492577"
      ]
     },
     "metadata": {},
     "output_type": "display_data"
    },
    {
     "data": {
      "text/html": [
       "0.447499294076097"
      ],
      "text/latex": [
       "0.447499294076097"
      ],
      "text/markdown": [
       "0.447499294076097"
      ],
      "text/plain": [
       "[1] 0.4474993"
      ]
     },
     "metadata": {},
     "output_type": "display_data"
    },
    {
     "name": "stdout",
     "output_type": "stream",
     "text": [
      "\n",
      "table 8:"
     ]
    },
    {
     "data": {
      "text/html": [
       "<table class=\"dataframe\">\n",
       "<caption>A tibble: 11 × 5</caption>\n",
       "<thead>\n",
       "\t<tr><th scope=col>term</th><th scope=col>estimate</th><th scope=col>std.error</th><th scope=col>statistic</th><th scope=col>p.value</th></tr>\n",
       "\t<tr><th scope=col>&lt;chr&gt;</th><th scope=col>&lt;dbl&gt;</th><th scope=col>&lt;dbl&gt;</th><th scope=col>&lt;dbl&gt;</th><th scope=col>&lt;dbl&gt;</th></tr>\n",
       "</thead>\n",
       "<tbody>\n",
       "\t<tr><td>(Intercept)</td><td> 5.550987e-01</td><td>2.005270e-03</td><td>276.8198719</td><td>0.000000e+00</td></tr>\n",
       "\t<tr><td>X1         </td><td>-6.719511e-06</td><td>1.827220e-06</td><td> -3.6774510</td><td>2.357649e-04</td></tr>\n",
       "\t<tr><td>X3         </td><td>-8.420991e-06</td><td>8.705523e-06</td><td> -0.9673160</td><td>3.333897e-01</td></tr>\n",
       "\t<tr><td>X5         </td><td> 2.895341e-05</td><td>3.409410e-06</td><td>  8.4922069</td><td>2.069305e-17</td></tr>\n",
       "\t<tr><td>X6         </td><td> 1.836851e-05</td><td>2.954874e-06</td><td>  6.2163441</td><td>5.119325e-10</td></tr>\n",
       "\t<tr><td>X7         </td><td> 4.756899e-05</td><td>4.186639e-06</td><td> 11.3620949</td><td>6.888644e-30</td></tr>\n",
       "\t<tr><td>X8         </td><td> 3.111299e-06</td><td>3.004041e-07</td><td> 10.3570460</td><td>4.065755e-25</td></tr>\n",
       "\t<tr><td>X11        </td><td> 1.058645e-05</td><td>2.240032e-06</td><td>  4.7260277</td><td>2.294298e-06</td></tr>\n",
       "\t<tr><td>X13        </td><td> 8.007539e-07</td><td>1.805296e-06</td><td>  0.4435581</td><td>6.573636e-01</td></tr>\n",
       "\t<tr><td>X15        </td><td>-1.029720e-07</td><td>6.052718e-07</td><td> -0.1701252</td><td>8.649122e-01</td></tr>\n",
       "\t<tr><td>X17        </td><td>-1.280872e-05</td><td>1.403002e-06</td><td> -9.1295051</td><td>7.070783e-20</td></tr>\n",
       "</tbody>\n",
       "</table>\n"
      ],
      "text/latex": [
       "A tibble: 11 × 5\n",
       "\\begin{tabular}{lllll}\n",
       " term & estimate & std.error & statistic & p.value\\\\\n",
       " <chr> & <dbl> & <dbl> & <dbl> & <dbl>\\\\\n",
       "\\hline\n",
       "\t (Intercept) &  5.550987e-01 & 2.005270e-03 & 276.8198719 & 0.000000e+00\\\\\n",
       "\t X1          & -6.719511e-06 & 1.827220e-06 &  -3.6774510 & 2.357649e-04\\\\\n",
       "\t X3          & -8.420991e-06 & 8.705523e-06 &  -0.9673160 & 3.333897e-01\\\\\n",
       "\t X5          &  2.895341e-05 & 3.409410e-06 &   8.4922069 & 2.069305e-17\\\\\n",
       "\t X6          &  1.836851e-05 & 2.954874e-06 &   6.2163441 & 5.119325e-10\\\\\n",
       "\t X7          &  4.756899e-05 & 4.186639e-06 &  11.3620949 & 6.888644e-30\\\\\n",
       "\t X8          &  3.111299e-06 & 3.004041e-07 &  10.3570460 & 4.065755e-25\\\\\n",
       "\t X11         &  1.058645e-05 & 2.240032e-06 &   4.7260277 & 2.294298e-06\\\\\n",
       "\t X13         &  8.007539e-07 & 1.805296e-06 &   0.4435581 & 6.573636e-01\\\\\n",
       "\t X15         & -1.029720e-07 & 6.052718e-07 &  -0.1701252 & 8.649122e-01\\\\\n",
       "\t X17         & -1.280872e-05 & 1.403002e-06 &  -9.1295051 & 7.070783e-20\\\\\n",
       "\\end{tabular}\n"
      ],
      "text/markdown": [
       "\n",
       "A tibble: 11 × 5\n",
       "\n",
       "| term &lt;chr&gt; | estimate &lt;dbl&gt; | std.error &lt;dbl&gt; | statistic &lt;dbl&gt; | p.value &lt;dbl&gt; |\n",
       "|---|---|---|---|---|\n",
       "| (Intercept) |  5.550987e-01 | 2.005270e-03 | 276.8198719 | 0.000000e+00 |\n",
       "| X1          | -6.719511e-06 | 1.827220e-06 |  -3.6774510 | 2.357649e-04 |\n",
       "| X3          | -8.420991e-06 | 8.705523e-06 |  -0.9673160 | 3.333897e-01 |\n",
       "| X5          |  2.895341e-05 | 3.409410e-06 |   8.4922069 | 2.069305e-17 |\n",
       "| X6          |  1.836851e-05 | 2.954874e-06 |   6.2163441 | 5.119325e-10 |\n",
       "| X7          |  4.756899e-05 | 4.186639e-06 |  11.3620949 | 6.888644e-30 |\n",
       "| X8          |  3.111299e-06 | 3.004041e-07 |  10.3570460 | 4.065755e-25 |\n",
       "| X11         |  1.058645e-05 | 2.240032e-06 |   4.7260277 | 2.294298e-06 |\n",
       "| X13         |  8.007539e-07 | 1.805296e-06 |   0.4435581 | 6.573636e-01 |\n",
       "| X15         | -1.029720e-07 | 6.052718e-07 |  -0.1701252 | 8.649122e-01 |\n",
       "| X17         | -1.280872e-05 | 1.403002e-06 |  -9.1295051 | 7.070783e-20 |\n",
       "\n"
      ],
      "text/plain": [
       "   term        estimate      std.error    statistic   p.value     \n",
       "1  (Intercept)  5.550987e-01 2.005270e-03 276.8198719 0.000000e+00\n",
       "2  X1          -6.719511e-06 1.827220e-06  -3.6774510 2.357649e-04\n",
       "3  X3          -8.420991e-06 8.705523e-06  -0.9673160 3.333897e-01\n",
       "4  X5           2.895341e-05 3.409410e-06   8.4922069 2.069305e-17\n",
       "5  X6           1.836851e-05 2.954874e-06   6.2163441 5.119325e-10\n",
       "6  X7           4.756899e-05 4.186639e-06  11.3620949 6.888644e-30\n",
       "7  X8           3.111299e-06 3.004041e-07  10.3570460 4.065755e-25\n",
       "8  X11          1.058645e-05 2.240032e-06   4.7260277 2.294298e-06\n",
       "9  X13          8.007539e-07 1.805296e-06   0.4435581 6.573636e-01\n",
       "10 X15         -1.029720e-07 6.052718e-07  -0.1701252 8.649122e-01\n",
       "11 X17         -1.280872e-05 1.403002e-06  -9.1295051 7.070783e-20"
      ]
     },
     "metadata": {},
     "output_type": "display_data"
    }
   ],
   "source": [
    "bankl_lreg_spec <- linear_reg() |>\n",
    "    set_engine(\"lm\") |>\n",
    "    set_mode(\"regression\")\n",
    "\n",
    "bank_lreg_recipe <- recipe(status_label_num ~ X1 + X3 + X5 + X6 + X7 + X8 + X11 + X13 + X15 + X17, data = data_smote)\n",
    "\n",
    "\n",
    "bank_lreg_fit <- workflow() |>\n",
    "    add_recipe(bank_lreg_recipe) |>\n",
    "    add_model(bankl_lreg_spec) |>\n",
    "    fit(data = data_smote)\n",
    "\n",
    "bank_lreg_fit\n",
    "\n",
    "bank_lreg_predictions <- predict(bank_lreg_fit, bank_test) |>\n",
    "    bind_cols(bank_test) |>\n",
    "    mutate(predicted_class = ifelse(.pred > 0.5, 1, 0)) |>\n",
    "    mutate(predicted_class = as_factor(predicted_class), \n",
    "           status_label_num = as_factor(status_label_num))\n",
    "\n",
    "bank_rmse <- bank_lreg_fit |>\n",
    "    predict(data_smote) |>\n",
    "    bind_cols(data_smote) |>\n",
    "    metrics(truth = status_label_num, estimate = .pred) |>\n",
    "    filter(.metric == 'rmse') |>\n",
    "    select(.estimate) |>\n",
    "    pull()\n",
    "\n",
    "bank_rmspe <- bank_lreg_fit |>\n",
    "    predict(bank_test) |>\n",
    "    bind_cols(bank_test) |>\n",
    "    metrics(truth = status_label_num, estimate = .pred) |>\n",
    "    filter(.metric == 'rmse') |>\n",
    "    select(.estimate) |>\n",
    "    pull()\n",
    "\n",
    "coeffs <- bank_lreg_fit |>\n",
    "    extract_fit_parsnip() |>\n",
    "    tidy()\n",
    "\n",
    "bank_rmse\n",
    "bank_rmspe\n",
    "cat(\"\\ntable 8:\")\n",
    "coeffs"
   ]
  },
  {
   "cell_type": "markdown",
   "id": "c26a1dd0-d6ec-4e90-b0c8-b5957b79d6a0",
   "metadata": {},
   "source": [
    "Then check the performance of it."
   ]
  },
  {
   "cell_type": "code",
   "execution_count": 44,
   "id": "f49e9259-a58e-45ba-a208-445edf889a2f",
   "metadata": {
    "vscode": {
     "languageId": "r"
    }
   },
   "outputs": [
    {
     "name": "stdout",
     "output_type": "stream",
     "text": [
      "\n",
      "table 9:"
     ]
    },
    {
     "data": {
      "text/html": [
       "<table class=\"dataframe\">\n",
       "<caption>A tibble: 1 × 3</caption>\n",
       "<thead>\n",
       "\t<tr><th scope=col>.metric</th><th scope=col>.estimator</th><th scope=col>.estimate</th></tr>\n",
       "\t<tr><th scope=col>&lt;chr&gt;</th><th scope=col>&lt;chr&gt;</th><th scope=col>&lt;dbl&gt;</th></tr>\n",
       "</thead>\n",
       "<tbody>\n",
       "\t<tr><td>accuracy</td><td>binary</td><td>0.9259043</td></tr>\n",
       "</tbody>\n",
       "</table>\n"
      ],
      "text/latex": [
       "A tibble: 1 × 3\n",
       "\\begin{tabular}{lll}\n",
       " .metric & .estimator & .estimate\\\\\n",
       " <chr> & <chr> & <dbl>\\\\\n",
       "\\hline\n",
       "\t accuracy & binary & 0.9259043\\\\\n",
       "\\end{tabular}\n"
      ],
      "text/markdown": [
       "\n",
       "A tibble: 1 × 3\n",
       "\n",
       "| .metric &lt;chr&gt; | .estimator &lt;chr&gt; | .estimate &lt;dbl&gt; |\n",
       "|---|---|---|\n",
       "| accuracy | binary | 0.9259043 |\n",
       "\n"
      ],
      "text/plain": [
       "  .metric  .estimator .estimate\n",
       "1 accuracy binary     0.9259043"
      ]
     },
     "metadata": {},
     "output_type": "display_data"
    },
    {
     "data": {
      "text/html": [
       "<table class=\"dataframe\">\n",
       "<caption>A tibble: 1 × 3</caption>\n",
       "<thead>\n",
       "\t<tr><th scope=col>.metric</th><th scope=col>.estimator</th><th scope=col>.estimate</th></tr>\n",
       "\t<tr><th scope=col>&lt;chr&gt;</th><th scope=col>&lt;chr&gt;</th><th scope=col>&lt;dbl&gt;</th></tr>\n",
       "</thead>\n",
       "<tbody>\n",
       "\t<tr><td>sens</td><td>binary</td><td>0.01990812</td></tr>\n",
       "</tbody>\n",
       "</table>\n"
      ],
      "text/latex": [
       "A tibble: 1 × 3\n",
       "\\begin{tabular}{lll}\n",
       " .metric & .estimator & .estimate\\\\\n",
       " <chr> & <chr> & <dbl>\\\\\n",
       "\\hline\n",
       "\t sens & binary & 0.01990812\\\\\n",
       "\\end{tabular}\n"
      ],
      "text/markdown": [
       "\n",
       "A tibble: 1 × 3\n",
       "\n",
       "| .metric &lt;chr&gt; | .estimator &lt;chr&gt; | .estimate &lt;dbl&gt; |\n",
       "|---|---|---|\n",
       "| sens | binary | 0.01990812 |\n",
       "\n"
      ],
      "text/plain": [
       "  .metric .estimator .estimate \n",
       "1 sens    binary     0.01990812"
      ]
     },
     "metadata": {},
     "output_type": "display_data"
    },
    {
     "data": {
      "text/html": [
       "<table class=\"dataframe\">\n",
       "<caption>A tibble: 1 × 3</caption>\n",
       "<thead>\n",
       "\t<tr><th scope=col>.metric</th><th scope=col>.estimator</th><th scope=col>.estimate</th></tr>\n",
       "\t<tr><th scope=col>&lt;chr&gt;</th><th scope=col>&lt;chr&gt;</th><th scope=col>&lt;dbl&gt;</th></tr>\n",
       "</thead>\n",
       "<tbody>\n",
       "\t<tr><td>precision</td><td>binary</td><td>0.1277641</td></tr>\n",
       "</tbody>\n",
       "</table>\n"
      ],
      "text/latex": [
       "A tibble: 1 × 3\n",
       "\\begin{tabular}{lll}\n",
       " .metric & .estimator & .estimate\\\\\n",
       " <chr> & <chr> & <dbl>\\\\\n",
       "\\hline\n",
       "\t precision & binary & 0.1277641\\\\\n",
       "\\end{tabular}\n"
      ],
      "text/markdown": [
       "\n",
       "A tibble: 1 × 3\n",
       "\n",
       "| .metric &lt;chr&gt; | .estimator &lt;chr&gt; | .estimate &lt;dbl&gt; |\n",
       "|---|---|---|\n",
       "| precision | binary | 0.1277641 |\n",
       "\n"
      ],
      "text/plain": [
       "  .metric   .estimator .estimate\n",
       "1 precision binary     0.1277641"
      ]
     },
     "metadata": {},
     "output_type": "display_data"
    },
    {
     "data": {
      "text/html": [
       "<table class=\"dataframe\">\n",
       "<caption>A tibble: 1 × 3</caption>\n",
       "<thead>\n",
       "\t<tr><th scope=col>.metric</th><th scope=col>.estimator</th><th scope=col>.estimate</th></tr>\n",
       "\t<tr><th scope=col>&lt;chr&gt;</th><th scope=col>&lt;chr&gt;</th><th scope=col>&lt;dbl&gt;</th></tr>\n",
       "</thead>\n",
       "<tbody>\n",
       "\t<tr><td>roc_auc</td><td>binary</td><td>0.3735607</td></tr>\n",
       "</tbody>\n",
       "</table>\n"
      ],
      "text/latex": [
       "A tibble: 1 × 3\n",
       "\\begin{tabular}{lll}\n",
       " .metric & .estimator & .estimate\\\\\n",
       " <chr> & <chr> & <dbl>\\\\\n",
       "\\hline\n",
       "\t roc\\_auc & binary & 0.3735607\\\\\n",
       "\\end{tabular}\n"
      ],
      "text/markdown": [
       "\n",
       "A tibble: 1 × 3\n",
       "\n",
       "| .metric &lt;chr&gt; | .estimator &lt;chr&gt; | .estimate &lt;dbl&gt; |\n",
       "|---|---|---|\n",
       "| roc_auc | binary | 0.3735607 |\n",
       "\n"
      ],
      "text/plain": [
       "  .metric .estimator .estimate\n",
       "1 roc_auc binary     0.3735607"
      ]
     },
     "metadata": {},
     "output_type": "display_data"
    },
    {
     "name": "stdout",
     "output_type": "stream",
     "text": [
      "\n",
      "figure 7:"
     ]
    },
    {
     "data": {
      "image/png": "[encoded data removed]",
      "text/plain": [
       "plot without title"
      ]
     },
     "metadata": {
      "image/png": {
       "height": 540,
       "width": 600
      }
     },
     "output_type": "display_data"
    }
   ],
   "source": [
    "accuracy_result_lreg <- accuracy(bank_lreg_predictions, truth = status_label_num, estimate = predicted_class)\n",
    "\n",
    "recall_result_lreg <- sens(bank_lreg_predictions, truth = status_label_num, estimate = predicted_class)\n",
    "\n",
    "precision_result_lreg <- precision(bank_lreg_predictions, truth = status_label_num, estimate = predicted_class)\n",
    "\n",
    "auc_result_lreg <- roc_auc(bank_lreg_predictions, truth = status_label_num, .pred)\n",
    "\n",
    "roc_data_lreg <- roc_curve(bank_lreg_predictions, truth = status_label_num, .pred)\n",
    "\n",
    "roc_plot_lreg <- ggplot(roc_data_lreg, aes(x = 1 - specificity, y = sensitivity)) +\n",
    "    geom_line() +\n",
    "    geom_abline(linetype = \"dashed\") +\n",
    "    labs(x = \"False Positive Rate\", y = \"True Positive Rate\", title = \"ROC Curve\")\n",
    "\n",
    "cat(\"\\ntable 9:\")\n",
    "accuracy_result_lreg\n",
    "recall_result_lreg\n",
    "precision_result_lreg\n",
    "auc_result_lreg\n",
    "cat(\"\\nfigure 7:\")\n",
    "roc_plot_lreg"
   ]
  },
  {
   "cell_type": "markdown",
   "id": "b6ae91df-4715-483d-af1e-521647e2ec88",
   "metadata": {},
   "source": [
    "We got the same problem here, the model is not good enough for binary classification."
   ]
  },
  {
   "cell_type": "markdown",
   "id": "1360161d-5dc7-44b6-b9e9-31e6ddbf6a00",
   "metadata": {},
   "source": [
    "Lastly, the *K-NN classification* model. We find the best *K* value first."
   ]
  },
  {
   "cell_type": "code",
   "execution_count": 45,
   "id": "0116d7e3-4cbd-46e5-a1cf-4c25768a4d33",
   "metadata": {
    "vscode": {
     "languageId": "r"
    }
   },
   "outputs": [
    {
     "name": "stdout",
     "output_type": "stream",
     "text": [
      "\n",
      "table 10:"
     ]
    },
    {
     "data": {
      "text/html": [
       "<table class=\"dataframe\">\n",
       "<caption>A tibble: 10 × 7</caption>\n",
       "<thead>\n",
       "\t<tr><th scope=col>neighbors</th><th scope=col>.metric</th><th scope=col>.estimator</th><th scope=col>mean</th><th scope=col>n</th><th scope=col>std_err</th><th scope=col>.config</th></tr>\n",
       "\t<tr><th scope=col>&lt;dbl&gt;</th><th scope=col>&lt;chr&gt;</th><th scope=col>&lt;chr&gt;</th><th scope=col>&lt;dbl&gt;</th><th scope=col>&lt;int&gt;</th><th scope=col>&lt;dbl&gt;</th><th scope=col>&lt;chr&gt;</th></tr>\n",
       "</thead>\n",
       "<tbody>\n",
       "\t<tr><td> 1</td><td>accuracy</td><td>binary</td><td>0.9201328</td><td>5</td><td>0.001468026</td><td>Preprocessor1_Model01</td></tr>\n",
       "\t<tr><td> 2</td><td>accuracy</td><td>binary</td><td>0.9201328</td><td>5</td><td>0.001468026</td><td>Preprocessor1_Model02</td></tr>\n",
       "\t<tr><td> 3</td><td>accuracy</td><td>binary</td><td>0.8939027</td><td>5</td><td>0.002378592</td><td>Preprocessor1_Model03</td></tr>\n",
       "\t<tr><td> 4</td><td>accuracy</td><td>binary</td><td>0.8939027</td><td>5</td><td>0.002378592</td><td>Preprocessor1_Model04</td></tr>\n",
       "\t<tr><td> 5</td><td>accuracy</td><td>binary</td><td>0.8778834</td><td>5</td><td>0.002023027</td><td>Preprocessor1_Model05</td></tr>\n",
       "\t<tr><td> 6</td><td>accuracy</td><td>binary</td><td>0.8778834</td><td>5</td><td>0.002023027</td><td>Preprocessor1_Model06</td></tr>\n",
       "\t<tr><td> 7</td><td>accuracy</td><td>binary</td><td>0.8639735</td><td>5</td><td>0.001863828</td><td>Preprocessor1_Model07</td></tr>\n",
       "\t<tr><td> 8</td><td>accuracy</td><td>binary</td><td>0.8639735</td><td>5</td><td>0.001863828</td><td>Preprocessor1_Model08</td></tr>\n",
       "\t<tr><td> 9</td><td>accuracy</td><td>binary</td><td>0.8540225</td><td>5</td><td>0.001668058</td><td>Preprocessor1_Model09</td></tr>\n",
       "\t<tr><td>10</td><td>accuracy</td><td>binary</td><td>0.8540225</td><td>5</td><td>0.001668058</td><td>Preprocessor1_Model10</td></tr>\n",
       "</tbody>\n",
       "</table>\n"
      ],
      "text/latex": [
       "A tibble: 10 × 7\n",
       "\\begin{tabular}{lllllll}\n",
       " neighbors & .metric & .estimator & mean & n & std\\_err & .config\\\\\n",
       " <dbl> & <chr> & <chr> & <dbl> & <int> & <dbl> & <chr>\\\\\n",
       "\\hline\n",
       "\t  1 & accuracy & binary & 0.9201328 & 5 & 0.001468026 & Preprocessor1\\_Model01\\\\\n",
       "\t  2 & accuracy & binary & 0.9201328 & 5 & 0.001468026 & Preprocessor1\\_Model02\\\\\n",
       "\t  3 & accuracy & binary & 0.8939027 & 5 & 0.002378592 & Preprocessor1\\_Model03\\\\\n",
       "\t  4 & accuracy & binary & 0.8939027 & 5 & 0.002378592 & Preprocessor1\\_Model04\\\\\n",
       "\t  5 & accuracy & binary & 0.8778834 & 5 & 0.002023027 & Preprocessor1\\_Model05\\\\\n",
       "\t  6 & accuracy & binary & 0.8778834 & 5 & 0.002023027 & Preprocessor1\\_Model06\\\\\n",
       "\t  7 & accuracy & binary & 0.8639735 & 5 & 0.001863828 & Preprocessor1\\_Model07\\\\\n",
       "\t  8 & accuracy & binary & 0.8639735 & 5 & 0.001863828 & Preprocessor1\\_Model08\\\\\n",
       "\t  9 & accuracy & binary & 0.8540225 & 5 & 0.001668058 & Preprocessor1\\_Model09\\\\\n",
       "\t 10 & accuracy & binary & 0.8540225 & 5 & 0.001668058 & Preprocessor1\\_Model10\\\\\n",
       "\\end{tabular}\n"
      ],
      "text/markdown": [
       "\n",
       "A tibble: 10 × 7\n",
       "\n",
       "| neighbors &lt;dbl&gt; | .metric &lt;chr&gt; | .estimator &lt;chr&gt; | mean &lt;dbl&gt; | n &lt;int&gt; | std_err &lt;dbl&gt; | .config &lt;chr&gt; |\n",
       "|---|---|---|---|---|---|---|\n",
       "|  1 | accuracy | binary | 0.9201328 | 5 | 0.001468026 | Preprocessor1_Model01 |\n",
       "|  2 | accuracy | binary | 0.9201328 | 5 | 0.001468026 | Preprocessor1_Model02 |\n",
       "|  3 | accuracy | binary | 0.8939027 | 5 | 0.002378592 | Preprocessor1_Model03 |\n",
       "|  4 | accuracy | binary | 0.8939027 | 5 | 0.002378592 | Preprocessor1_Model04 |\n",
       "|  5 | accuracy | binary | 0.8778834 | 5 | 0.002023027 | Preprocessor1_Model05 |\n",
       "|  6 | accuracy | binary | 0.8778834 | 5 | 0.002023027 | Preprocessor1_Model06 |\n",
       "|  7 | accuracy | binary | 0.8639735 | 5 | 0.001863828 | Preprocessor1_Model07 |\n",
       "|  8 | accuracy | binary | 0.8639735 | 5 | 0.001863828 | Preprocessor1_Model08 |\n",
       "|  9 | accuracy | binary | 0.8540225 | 5 | 0.001668058 | Preprocessor1_Model09 |\n",
       "| 10 | accuracy | binary | 0.8540225 | 5 | 0.001668058 | Preprocessor1_Model10 |\n",
       "\n"
      ],
      "text/plain": [
       "   neighbors .metric  .estimator mean      n std_err     .config              \n",
       "1   1        accuracy binary     0.9201328 5 0.001468026 Preprocessor1_Model01\n",
       "2   2        accuracy binary     0.9201328 5 0.001468026 Preprocessor1_Model02\n",
       "3   3        accuracy binary     0.8939027 5 0.002378592 Preprocessor1_Model03\n",
       "4   4        accuracy binary     0.8939027 5 0.002378592 Preprocessor1_Model04\n",
       "5   5        accuracy binary     0.8778834 5 0.002023027 Preprocessor1_Model05\n",
       "6   6        accuracy binary     0.8778834 5 0.002023027 Preprocessor1_Model06\n",
       "7   7        accuracy binary     0.8639735 5 0.001863828 Preprocessor1_Model07\n",
       "8   8        accuracy binary     0.8639735 5 0.001863828 Preprocessor1_Model08\n",
       "9   9        accuracy binary     0.8540225 5 0.001668058 Preprocessor1_Model09\n",
       "10 10        accuracy binary     0.8540225 5 0.001668058 Preprocessor1_Model10"
      ]
     },
     "metadata": {},
     "output_type": "display_data"
    },
    {
     "name": "stdout",
     "output_type": "stream",
     "text": [
      "\n",
      "figure 8:"
     ]
    },
    {
     "data": {
      "text/html": [
       "1"
      ],
      "text/latex": [
       "1"
      ],
      "text/markdown": [
       "1"
      ],
      "text/plain": [
       "[1] 1"
      ]
     },
     "metadata": {},
     "output_type": "display_data"
    },
    {
     "data": {
      "image/png": "[encoded data removed]",
      "text/plain": [
       "plot without title"
      ]
     },
     "metadata": {
      "image/png": {
       "height": 540,
       "width": 600
      }
     },
     "output_type": "display_data"
    }
   ],
   "source": [
    "bank_spec_kclass <- nearest_neighbor(weight_func = \"rectangular\", neighbors = tune()) |>\n",
    "    set_engine(\"kknn\") |>\n",
    "    set_mode(\"classification\")\n",
    "\n",
    "bank_recipe_kclass <- recipe(status_label ~ X1 + X3 + X5 + X6 + X7 + X8 + X11 + X13 + X15 + X17, data = data_smote) |>\n",
    "    step_scale(all_predictors()) |>\n",
    "    step_center(all_predictors())\n",
    "\n",
    "bank_vfold_kclass <- vfold_cv(data_smote, v = 5, strata = status_label)\n",
    "\n",
    "bank_vals <- tibble(neighbors = seq(from = 1, to = 10, by = 1))\n",
    "\n",
    "bank_results_kclass <- workflow() |>\n",
    "    add_recipe(bank_recipe_kclass) |>\n",
    "    add_model(bank_spec_kclass) |>\n",
    "    tune_grid(resamples = bank_vfold_kclass, grid = bank_vals) |>\n",
    "    collect_metrics()\n",
    "\n",
    "accuracies <- bank_results_kclass |>\n",
    "    filter(.metric == \"accuracy\")\n",
    "\n",
    "cat(\"\\ntable 10:\")\n",
    "accuracies\n",
    "\n",
    "accuracy_vs_k <- ggplot(accuracies, aes(x = neighbors, y = mean)) +\n",
    "    geom_point() +\n",
    "    geom_line() +\n",
    "    scale_x_continuous(breaks = seq(0, 10, by = 1)) +\n",
    "    labs(x = \"Neighbors\", y = \"Accuracy Estimate\")\n",
    "\n",
    "cat(\"\\nfigure 8:\")\n",
    "accuracy_vs_k\n",
    "\n",
    "best_k <- accuracies |>\n",
    "    arrange(-mean)|>\n",
    "    head(1)|>\n",
    "    pull(neighbors)\n",
    "\n",
    "best_k"
   ]
  },
  {
   "cell_type": "markdown",
   "id": "eee26b1a-a07c-45c9-a64f-b17354cf29a8",
   "metadata": {},
   "source": [
    "Then we apply the model on the test dataset and see the performance."
   ]
  },
  {
   "cell_type": "code",
   "execution_count": 47,
   "id": "74a6e67d-0bc8-4af3-a7b0-53e7022ee0b2",
   "metadata": {
    "vscode": {
     "languageId": "r"
    }
   },
   "outputs": [
    {
     "name": "stdout",
     "output_type": "stream",
     "text": [
      "table 11:"
     ]
    },
    {
     "data": {
      "text/html": [
       "<table class=\"dataframe\">\n",
       "<caption>A tibble: 1 × 3</caption>\n",
       "<thead>\n",
       "\t<tr><th scope=col>.metric</th><th scope=col>.estimator</th><th scope=col>.estimate</th></tr>\n",
       "\t<tr><th scope=col>&lt;chr&gt;</th><th scope=col>&lt;chr&gt;</th><th scope=col>&lt;dbl&gt;</th></tr>\n",
       "</thead>\n",
       "<tbody>\n",
       "\t<tr><td>accuracy</td><td>binary</td><td>0.8642892</td></tr>\n",
       "</tbody>\n",
       "</table>\n"
      ],
      "text/latex": [
       "A tibble: 1 × 3\n",
       "\\begin{tabular}{lll}\n",
       " .metric & .estimator & .estimate\\\\\n",
       " <chr> & <chr> & <dbl>\\\\\n",
       "\\hline\n",
       "\t accuracy & binary & 0.8642892\\\\\n",
       "\\end{tabular}\n"
      ],
      "text/markdown": [
       "\n",
       "A tibble: 1 × 3\n",
       "\n",
       "| .metric &lt;chr&gt; | .estimator &lt;chr&gt; | .estimate &lt;dbl&gt; |\n",
       "|---|---|---|\n",
       "| accuracy | binary | 0.8642892 |\n",
       "\n"
      ],
      "text/plain": [
       "  .metric  .estimator .estimate\n",
       "1 accuracy binary     0.8642892"
      ]
     },
     "metadata": {},
     "output_type": "display_data"
    },
    {
     "data": {
      "text/html": [
       "<table class=\"dataframe\">\n",
       "<caption>A tibble: 1 × 3</caption>\n",
       "<thead>\n",
       "\t<tr><th scope=col>.metric</th><th scope=col>.estimator</th><th scope=col>.estimate</th></tr>\n",
       "\t<tr><th scope=col>&lt;chr&gt;</th><th scope=col>&lt;chr&gt;</th><th scope=col>&lt;dbl&gt;</th></tr>\n",
       "</thead>\n",
       "<tbody>\n",
       "\t<tr><td>precision</td><td>binary</td><td>0.2593965</td></tr>\n",
       "</tbody>\n",
       "</table>\n"
      ],
      "text/latex": [
       "A tibble: 1 × 3\n",
       "\\begin{tabular}{lll}\n",
       " .metric & .estimator & .estimate\\\\\n",
       " <chr> & <chr> & <dbl>\\\\\n",
       "\\hline\n",
       "\t precision & binary & 0.2593965\\\\\n",
       "\\end{tabular}\n"
      ],
      "text/markdown": [
       "\n",
       "A tibble: 1 × 3\n",
       "\n",
       "| .metric &lt;chr&gt; | .estimator &lt;chr&gt; | .estimate &lt;dbl&gt; |\n",
       "|---|---|---|\n",
       "| precision | binary | 0.2593965 |\n",
       "\n"
      ],
      "text/plain": [
       "  .metric   .estimator .estimate\n",
       "1 precision binary     0.2593965"
      ]
     },
     "metadata": {},
     "output_type": "display_data"
    },
    {
     "data": {
      "text/html": [
       "<table class=\"dataframe\">\n",
       "<caption>A tibble: 1 × 3</caption>\n",
       "<thead>\n",
       "\t<tr><th scope=col>.metric</th><th scope=col>.estimator</th><th scope=col>.estimate</th></tr>\n",
       "\t<tr><th scope=col>&lt;chr&gt;</th><th scope=col>&lt;chr&gt;</th><th scope=col>&lt;dbl&gt;</th></tr>\n",
       "</thead>\n",
       "<tbody>\n",
       "\t<tr><td>recall</td><td>binary</td><td>0.5627871</td></tr>\n",
       "</tbody>\n",
       "</table>\n"
      ],
      "text/latex": [
       "A tibble: 1 × 3\n",
       "\\begin{tabular}{lll}\n",
       " .metric & .estimator & .estimate\\\\\n",
       " <chr> & <chr> & <dbl>\\\\\n",
       "\\hline\n",
       "\t recall & binary & 0.5627871\\\\\n",
       "\\end{tabular}\n"
      ],
      "text/markdown": [
       "\n",
       "A tibble: 1 × 3\n",
       "\n",
       "| .metric &lt;chr&gt; | .estimator &lt;chr&gt; | .estimate &lt;dbl&gt; |\n",
       "|---|---|---|\n",
       "| recall | binary | 0.5627871 |\n",
       "\n"
      ],
      "text/plain": [
       "  .metric .estimator .estimate\n",
       "1 recall  binary     0.5627871"
      ]
     },
     "metadata": {},
     "output_type": "display_data"
    },
    {
     "data": {
      "text/plain": [
       "          Truth\n",
       "Prediction alive failed\n",
       "    alive  32532   1142\n",
       "    failed  4197   1470"
      ]
     },
     "metadata": {},
     "output_type": "display_data"
    }
   ],
   "source": [
    "bank_spec_best_kclass <- nearest_neighbor(weight_func = \"rectangular\", neighbors = best_k) |>\n",
    "    set_engine(\"kknn\") |>\n",
    "    set_mode(\"classification\")\n",
    "\n",
    "bank_fit_best_kclass <- workflow() |>\n",
    "    add_recipe(bank_recipe_kclass) |>\n",
    "    add_model(bank_spec_best_kclass) |>\n",
    "    fit(data = data_smote)\n",
    "\n",
    "bank_test_predictions_kclass <- predict(bank_fit_best_kclass, bank_test) |>\n",
    "    bind_cols(bank_test)\n",
    "\n",
    "cat(\"table 11:\")\n",
    "bank_test_predictions_kclass |>\n",
    "    metrics(truth = status_label, estimate = .pred_class) |>\n",
    "    filter(.metric == \"accuracy\")\n",
    "\n",
    "precision(bank_test_predictions_kclass, truth = status_label, estimate = .pred_class, event_level = \"second\")\n",
    "recall(bank_test_predictions_kclass, truth = status_label, estimate = .pred_class, event_level = \"second\")\n",
    "conf_mat(bank_test_predictions_kclass, truth = status_label, estimate = .pred_class)"
   ]
  },
  {
   "cell_type": "markdown",
   "id": "946ab109-f59b-4a16-9e9f-5ee9d2db5553",
   "metadata": {},
   "source": [
    "Still, the result is not good enough."
   ]
  },
  {
   "cell_type": "markdown",
   "id": "c76d8c08-70c9-418c-ac20-79bf1dc23007",
   "metadata": {},
   "source": [
    "## Discussion"
   ]
  },
  {
   "cell_type": "markdown",
   "id": "a7a5c5ea-e52e-4cf2-9a17-f6479bc85092",
   "metadata": {},
   "source": [
    "### Summarization"
   ]
  },
  {
   "cell_type": "markdown",
   "id": "e6291930-5066-43e7-9700-6a6cba089a21",
   "metadata": {},
   "source": [
    "Basically, three models were successfully built to predict whether a listed company will go bankrupt. The accuracy and recall is fairly acceptable, and all the models work well. However, these models are defenitely not good enough, since we're going to predict whether a bank will go bankrupt or not, we expect a higher precision. We assume thr main problem could be the *SMOTE* technique we used. Since the dataset comes from the real company in America, and there are lots of outliers in it, therefore, it could be hard to oversample the minority without affect the relationship between the factors. Also, two regression models cannot handle a binary classificaiton well and the classification model is moderately sensitive to the imbalance. Both of them lead to the low precision of the models."
   ]
  },
  {
   "cell_type": "markdown",
   "id": "82ca87c3-8100-49af-b02e-098b2890e355",
   "metadata": {},
   "source": [
    "### Improvement"
   ]
  },
  {
   "cell_type": "markdown",
   "id": "e3ab86e5-46c4-4d26-b491-b5668a2b3be5",
   "metadata": {},
   "source": [
    "If we have time, we want to apply *Logistic Regression* model to handle this classification. Since it is specifically tailored for binary classification as it models the probability of class memberships and provides interpretable outputs, unlike linear regression which assumes a linear relationship and K-NN which relies on proximity to other data points without direct probability estimation. Additionally, logistic regression handles high-dimensional spaces more efficiently than K-NN classification, which often suffers from the curse of dimensionality (9 in our cases), leading to degraded performance in such scenarios. "
   ]
  },
  {
   "cell_type": "markdown",
   "id": "a1e5f15d-18e4-40fb-9737-3ec306e0d513",
   "metadata": {},
   "source": [
    "### Impact of the findings"
   ]
  },
  {
   "cell_type": "markdown",
   "id": "e8510a50-2d90-4e2e-8445-add447ce5ddd",
   "metadata": {},
   "source": [
    "These findings can be beneficial to potential business owners who wish to know how successful other businesses in the same fields as theirs are succeeding. They can also be useful to current business owners as this model can help predicting whether their business is headed towards bankruptcy or not. Also, it's valuable to investors, who could leverage these insights to make more informed decisions about their portfolios, potentially avoiding substantial losses by steering clear of companies at risk of bankruptcy. "
   ]
  },
  {
   "cell_type": "markdown",
   "id": "672cffd6-d3ff-4d6e-b759-ec4d6c2e4a69",
   "metadata": {},
   "source": [
    "### Future Questions"
   ]
  },
  {
   "cell_type": "markdown",
   "id": "ecbfd450-f4d6-48d2-8399-b578e5ea56e4",
   "metadata": {},
   "source": [
    "- We may have to include the real-time data to analyse.\n",
    "- Modify the model so that it could work on a specific industy with unique values or factors, so that we could make more accurate predictions.\n",
    "- Change the model or apply novel machine learning innovation to improve the model."
   ]
  },
  {
   "cell_type": "markdown",
   "id": "88a2a18c",
   "metadata": {},
   "source": [
    "### References"
   ]
  },
  {
   "cell_type": "markdown",
   "id": "fd627cd5",
   "metadata": {},
   "source": [
    "[1] X27, U. (2023). American companies bankruptcy prediction dataset [Data set]. Kaggle. Retrieved April 15, 2024, from https://www.kaggle.com/datasets/utkarshx27/american-companies-bankruptcy-prediction-dataset/data   \n",
    "[2] Timbers, T., Campbell, T., & Lee, M. (2023). Data science: A first introduction. Retrieved from https://datasciencebook.ca/   \n",
    "[3] Liu, M (2024). Introduction to Data Science (DSCI 100). Department of Statistics. University of British Columbia."
   ]
  }
 ],
 "metadata": {
  "kernelspec": {
   "display_name": "R",
   "language": "R",
   "name": "ir"
  },
  "language_info": {
   "codemirror_mode": "r",
   "file_extension": ".r",
   "mimetype": "text/x-r-source",
   "name": "R",
   "pygments_lexer": "r",
   "version": "4.3.3"
  }
 },
 "nbformat": 4,
 "nbformat_minor": 5
}
