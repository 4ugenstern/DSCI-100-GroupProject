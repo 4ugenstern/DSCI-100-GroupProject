{
 "cells": [
  {
   "cell_type": "markdown",
   "id": "2cf779b9-f7b1-45d5-a6d3-c3e05be971d3",
   "metadata": {},
   "source": [
    "# Optimizing Bankruptcy Prediction with K-NN, SMOTE, and Logistic Regression"
   ]
  },
  {
   "cell_type": "markdown",
   "id": "e25efb0a-3a24-47a5-930e-1c503e8d0af7",
   "metadata": {},
   "source": [
    "## Introduction:"
   ]
  },
  {
   "cell_type": "markdown",
   "id": "b86e40af-f7c1-4e18-a9ea-89684cf569a1",
   "metadata": {},
   "source": [
    "### Project Background:"
   ]
  },
  {
   "cell_type": "markdown",
   "id": "5008e951-5608-4015-9152-4f95c02e7f73",
   "metadata": {},
   "source": [
    "The possibility of a company facing bankruptcy is a major concern in the economic and financial field. Predicting bankruptcy early can reduce risks and provide stakeholders with valuable information to make informed decisions. The project aims to leverage machine learning techniques to predict the probability of bankruptcy based on financial metrics. We particularly address the challenges posed by unbalanced datasets, which are common in bankruptcy prediction scenarios where the number of solvent companies far exceeds the number of insolvent companies."
   ]
  },
  {
   "cell_type": "markdown",
   "id": "cb0ae6ff-f2a5-45a8-8578-5dc5f8228a59",
   "metadata": {},
   "source": [
    "### Main Question:"
   ]
  },
  {
   "cell_type": "markdown",
   "id": "c5d333d4-b199-419b-b1b4-a69edb7108fb",
   "metadata": {},
   "source": [
    "Can we accurately predict the likelihood of a company facing bankruptcy by applying SMOTE for data balancing, KNN for classification, and logistic regression for identifying key financial indicators?"
   ]
  },
  {
   "cell_type": "markdown",
   "id": "785eb4bf-ad46-4811-8485-8cbecbb6bdb6",
   "metadata": {},
   "source": [
    "### Dataset Description:"
   ]
  },
  {
   "cell_type": "markdown",
   "id": "39765664-bc43-42ff-a7c5-0cc47bf1fa85",
   "metadata": {},
   "source": [
    "The dataset chosen for this project is from Kaggle (https://www.kaggle.com/datasets/utkarshx27/american-companies-bankruptcy-prediction-dataset/data), which comprises various financial indicators of American public companies listed on the New York Stock Exchange and NASDAQ over a period. It includes features such as current assets, market value, inventorys, depreciation and amortization etc. The target variable is binary, indicating whether a company went bankrupt or remained solvent within the time frame studied."
   ]
  },
  {
   "cell_type": "markdown",
   "id": "91632f65-12cb-4efd-92ba-08f8a555c62d",
   "metadata": {},
   "source": [
    "## Preliminary Exploratory Data Analysis:"
   ]
  },
  {
   "cell_type": "markdown",
   "id": "0876a31b-9bfb-4771-b722-d721e542e8ce",
   "metadata": {},
   "source": [
    "### Read the dataset from internet:"
   ]
  },
  {
   "cell_type": "markdown",
   "id": "8180128b-c61e-4698-83cd-42573d56d84d",
   "metadata": {},
   "source": [
    "First, we intall and load the ***tidyverse*** library we're going to use to read the dataset:"
   ]
  },
  {
   "cell_type": "code",
   "execution_count": null,
   "id": "624946ef-ff13-400a-96b6-89fedbb41b4f",
   "metadata": {},
   "outputs": [
    {
     "name": "stderr",
     "output_type": "stream",
     "text": [
      "Updating HTML index of packages in '.Library'\n",
      "\n",
      "Making 'packages.html' ...\n",
      " done\n",
      "\n"
     ]
    }
   ],
   "source": [
    "install.packages(\"tidyverse\")\n",
    "install.packages(\"tidymodels\")\n",
    "library(tidyverse)\n",
    "library(tidymodels)"
   ]
  },
  {
   "cell_type": "markdown",
   "id": "7da5b29b-8d41-471b-bcb4-a89859ff4e59",
   "metadata": {},
   "source": [
    "Then we download the dataset from our github repository (https://raw.githubusercontent.com/4ugenstern/DSCI-100-GroupProject/main/american_bankruptcy.csv):"
   ]
  },
  {
   "cell_type": "code",
   "execution_count": null,
   "id": "5899d4f3-ad49-4b62-a961-c9a91f4cc9d9",
   "metadata": {},
   "outputs": [],
   "source": [
    "url = \"https://raw.githubusercontent.com/4ugenstern/DSCI-100-GroupProject/main/american_bankruptcy.csv\"\n",
    "download.file(url, \"data.csv\")\n",
    "\n",
    "raw_data <- read_csv(\"data.csv\")\n",
    "\n",
    "head(raw_data)\n",
    "\n",
    "bank_split <- initial_split(raw_data, prop = 0.75, strata = status_label)  \n",
    "bank_train <- training(bank_split)   \n",
    "bank_test <- testing(bank_split)"
   ]
  },
  {
   "cell_type": "markdown",
   "id": "a591ff85-f366-4eab-9022-4aa264a63c7a",
   "metadata": {},
   "source": [
    "### Clean and wrangle the dataset:"
   ]
  },
  {
   "cell_type": "markdown",
   "id": "f0c4d052-0207-4552-9a3b-5385b64826a5",
   "metadata": {},
   "source": [
    "As we can see from the dataset above, there is only one single observation in each row, onlyaone  single variabl in each columne, an \r\n",
    "each value is a single ce. therfore, we claim that this dataset is already in tidy format, no more action needed.e)"
   ]
  },
  {
   "cell_type": "markdown",
   "id": "da7f45aa-f020-4048-b65d-a5b29f8c3963",
   "metadata": {},
   "source": [
    "### Target Column Distribution (in training set):"
   ]
  },
  {
   "cell_type": "markdown",
   "id": "654bd5e0-8992-4a13-bba2-e83f78e432ed",
   "metadata": {},
   "source": [
    "We use *pie()* function to make a pie chart of our target column, which illustrates the dataset is quite imbalanced. Therefore, we may have to use technique such as *SMOTE* to up-sample the minority (*Bankrupt*) while avoiding overfitting."
   ]
  },
  {
   "cell_type": "code",
   "execution_count": null,
   "id": "198e8ced-de9a-496a-972d-d88c57f5b9e5",
   "metadata": {},
   "outputs": [],
   "source": [
    "alive <- filter(bank_train, status_label == \"alive\")\n",
    "total_number <- nrow(bank_train)\n",
    "alive_number <- nrow(alive)\n",
    "failed_number <- total_number - alive_number\n",
    "\n",
    "pie_data <- c(alive_number, failed_number)\n",
    "pie_labels <- c(\"Alive\", \"Bankrupt\")\n",
    "status_label <- c(\"Alive\", \"Bankrupt\")\n",
    "slice_colors <- c(\"red\", \"blue\")\n",
    "\n",
    "pie(pie_data, labels = percent(pie_data / sum(pie_data)), col = slice_colors, main = \"Distribution of Company Statuses in Training Set\")\n",
    "\n",
    "legend(\"topright\",\n",
    "    legend = status_label,\n",
    "    fill = slice_colors,\n",
    "    title = \"Company Status\")"
   ]
  },
  {
   "cell_type": "markdown",
   "id": "798d1e36-be2d-4762-a8c2-e63dbf808d10",
   "metadata": {},
   "source": [
    "## Expected Outcomes and Significance "
   ]
  },
  {
   "cell_type": "markdown",
   "id": "a7a5c5ea-e52e-4cf2-9a17-f6479bc85092",
   "metadata": {},
   "source": [
    "### What we expect to find:"
   ]
  },
  {
   "cell_type": "markdown",
   "id": "e6291930-5066-43e7-9700-6a6cba089a21",
   "metadata": {},
   "source": [
    "We expect to find the probability that a certain company goes bankrupt based on definitive factors."
   ]
  },
  {
   "cell_type": "markdown",
   "id": "ac74ae05-97a5-4256-8da6-f0c04c1ccfe5",
   "metadata": {},
   "source": [
    "### Impact of the findings: "
   ]
  },
  {
   "cell_type": "markdown",
   "id": "e8510a50-2d90-4e2e-8445-add447ce5ddd",
   "metadata": {},
   "source": [
    "These findings can be beneficial to potential business owners who wish to know how successful other businesses in the same fields as them are. They can also be useful to current business owners as this model can help predicting whether their business is headed towards bankruptcy or not."
   ]
  },
  {
   "cell_type": "code",
   "execution_count": null,
   "id": "71663b2f-8ba6-4552-b8a5-57ce14a0385c",
   "metadata": {},
   "outputs": [],
   "source": []
  }
 ],
 "metadata": {
  "kernelspec": {
   "display_name": "R",
   "language": "R",
   "name": "ir"
  },
  "language_info": {
   "codemirror_mode": "r",
   "file_extension": ".r",
   "mimetype": "text/x-r-source",
   "name": "R",
   "pygments_lexer": "r",
   "version": "4.3.1"
  }
 },
 "nbformat": 4,
 "nbformat_minor": 5
}
